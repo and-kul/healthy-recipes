{
 "cells": [
  {
   "cell_type": "code",
   "execution_count": 93,
   "metadata": {},
   "outputs": [],
   "source": [
    "import numpy as np\n",
    "import pandas as pd\n",
    "from tqdm.auto import tqdm\n",
    "\n",
    "import json"
   ]
  },
  {
   "cell_type": "code",
   "execution_count": 2,
   "metadata": {},
   "outputs": [],
   "source": [
    "data = pd.read_csv('./Junction-Kesko-Receipt-Data/Junction_data.csv', sep=';',\n",
    "                  parse_dates=['TransactionDate'], dtype={'Quantity': 'float64'}, decimal=',')"
   ]
  },
  {
   "cell_type": "code",
   "execution_count": 3,
   "metadata": {},
   "outputs": [
    {
     "data": {
      "text/plain": [
       "(52941708, 10)"
      ]
     },
     "execution_count": 3,
     "metadata": {},
     "output_type": "execute_result"
    }
   ],
   "source": [
    "data.shape"
   ]
  },
  {
   "cell_type": "code",
   "execution_count": 4,
   "metadata": {
    "scrolled": true
   },
   "outputs": [
    {
     "data": {
      "text/html": [
       "<div>\n",
       "<style scoped>\n",
       "    .dataframe tbody tr th:only-of-type {\n",
       "        vertical-align: middle;\n",
       "    }\n",
       "\n",
       "    .dataframe tbody tr th {\n",
       "        vertical-align: top;\n",
       "    }\n",
       "\n",
       "    .dataframe thead th {\n",
       "        text-align: right;\n",
       "    }\n",
       "</style>\n",
       "<table border=\"1\" class=\"dataframe\">\n",
       "  <thead>\n",
       "    <tr style=\"text-align: right;\">\n",
       "      <th></th>\n",
       "      <th>AreaId</th>\n",
       "      <th>Receipt</th>\n",
       "      <th>TransactionDate</th>\n",
       "      <th>BeginHour</th>\n",
       "      <th>EAN</th>\n",
       "      <th>Quantity</th>\n",
       "      <th>PersonAgeGrp</th>\n",
       "      <th>KCustomer</th>\n",
       "      <th>QualClass</th>\n",
       "      <th>EasyClass</th>\n",
       "    </tr>\n",
       "  </thead>\n",
       "  <tbody>\n",
       "    <tr>\n",
       "      <td>0</td>\n",
       "      <td>1</td>\n",
       "      <td>356601823178935</td>\n",
       "      <td>2017-11-07</td>\n",
       "      <td>17</td>\n",
       "      <td>5410103915654</td>\n",
       "      <td>1.0</td>\n",
       "      <td>55-64</td>\n",
       "      <td>6715</td>\n",
       "      <td>Q_1-3</td>\n",
       "      <td>E_4-7</td>\n",
       "    </tr>\n",
       "    <tr>\n",
       "      <td>1</td>\n",
       "      <td>1</td>\n",
       "      <td>356341113181337</td>\n",
       "      <td>2017-11-05</td>\n",
       "      <td>12</td>\n",
       "      <td>6413466126704</td>\n",
       "      <td>1.0</td>\n",
       "      <td>35-44</td>\n",
       "      <td>6712</td>\n",
       "      <td>Q_1-3</td>\n",
       "      <td>E_4-7</td>\n",
       "    </tr>\n",
       "    <tr>\n",
       "      <td>2</td>\n",
       "      <td>1</td>\n",
       "      <td>356629240622521</td>\n",
       "      <td>2017-11-07</td>\n",
       "      <td>18</td>\n",
       "      <td>24000017677</td>\n",
       "      <td>1.0</td>\n",
       "      <td>45-54</td>\n",
       "      <td>6715</td>\n",
       "      <td>Q_1-3</td>\n",
       "      <td>E_4-7</td>\n",
       "    </tr>\n",
       "    <tr>\n",
       "      <td>3</td>\n",
       "      <td>1</td>\n",
       "      <td>356269217607293</td>\n",
       "      <td>2017-11-04</td>\n",
       "      <td>13</td>\n",
       "      <td>6412000033188</td>\n",
       "      <td>2.0</td>\n",
       "      <td>55-64</td>\n",
       "      <td>6712</td>\n",
       "      <td>Q_4-7</td>\n",
       "      <td>E_4-7</td>\n",
       "    </tr>\n",
       "    <tr>\n",
       "      <td>4</td>\n",
       "      <td>1</td>\n",
       "      <td>356215448049286</td>\n",
       "      <td>2017-11-04</td>\n",
       "      <td>11</td>\n",
       "      <td>2000940900000</td>\n",
       "      <td>1.0</td>\n",
       "      <td>45-54</td>\n",
       "      <td>6713</td>\n",
       "      <td>Q_1-3</td>\n",
       "      <td>E_8-10</td>\n",
       "    </tr>\n",
       "  </tbody>\n",
       "</table>\n",
       "</div>"
      ],
      "text/plain": [
       "   AreaId          Receipt TransactionDate  BeginHour            EAN  \\\n",
       "0       1  356601823178935      2017-11-07         17  5410103915654   \n",
       "1       1  356341113181337      2017-11-05         12  6413466126704   \n",
       "2       1  356629240622521      2017-11-07         18    24000017677   \n",
       "3       1  356269217607293      2017-11-04         13  6412000033188   \n",
       "4       1  356215448049286      2017-11-04         11  2000940900000   \n",
       "\n",
       "   Quantity PersonAgeGrp  KCustomer QualClass EasyClass  \n",
       "0       1.0        55-64       6715     Q_1-3     E_4-7  \n",
       "1       1.0        35-44       6712     Q_1-3     E_4-7  \n",
       "2       1.0        45-54       6715     Q_1-3     E_4-7  \n",
       "3       2.0        55-64       6712     Q_4-7     E_4-7  \n",
       "4       1.0        45-54       6713     Q_1-3    E_8-10  "
      ]
     },
     "execution_count": 4,
     "metadata": {},
     "output_type": "execute_result"
    }
   ],
   "source": [
    "data.head()"
   ]
  },
  {
   "cell_type": "code",
   "execution_count": 5,
   "metadata": {
    "scrolled": true
   },
   "outputs": [
    {
     "data": {
      "text/plain": [
       "AreaId                      int64\n",
       "Receipt                     int64\n",
       "TransactionDate    datetime64[ns]\n",
       "BeginHour                   int64\n",
       "EAN                         int64\n",
       "Quantity                  float64\n",
       "PersonAgeGrp               object\n",
       "KCustomer                   int64\n",
       "QualClass                  object\n",
       "EasyClass                  object\n",
       "dtype: object"
      ]
     },
     "execution_count": 5,
     "metadata": {},
     "output_type": "execute_result"
    }
   ],
   "source": [
    "data.dtypes"
   ]
  },
  {
   "cell_type": "code",
   "execution_count": 242,
   "metadata": {},
   "outputs": [],
   "source": [
    "data_young = data[(data['PersonAgeGrp'] == '18-24') & \\\n",
    "                  (data['QualClass'] == 'Q_1-3') & \\\n",
    "                  (data['EasyClass'] == 'E_8-10') & \\\n",
    "                  (data['AreaId'] == 2) & \\\n",
    "                  (data['TransactionDate'] >= '2019-08-01')]"
   ]
  },
  {
   "cell_type": "code",
   "execution_count": 243,
   "metadata": {},
   "outputs": [],
   "source": [
    "data_old = data[(data['PersonAgeGrp'] == '25-34') & \\\n",
    "                (data['QualClass'] == 'Q_8-10') & \\\n",
    "                (data['EasyClass'] == 'E_1-3') & \\\n",
    "                (data['AreaId'] == 2) & \\\n",
    "                (data['TransactionDate'] >= '2019-08-01')]"
   ]
  },
  {
   "cell_type": "code",
   "execution_count": 244,
   "metadata": {},
   "outputs": [],
   "source": [
    "np.random.seed(0)\n",
    "receipts_young = np.random.choice(data_young['Receipt'].unique(), size=40, replace=False)\n",
    "data_young = data_young[data_young['Receipt'].isin(receipts_young)]\n",
    "\n",
    "receipts_old = np.random.choice(data_old['Receipt'].unique(), size=40, replace=False)\n",
    "data_old = data_old[data_old['Receipt'].isin(receipts_old)]"
   ]
  },
  {
   "cell_type": "code",
   "execution_count": 248,
   "metadata": {},
   "outputs": [],
   "source": [
    "data_young = data_young.copy()\n",
    "data_old = data_old.copy()"
   ]
  },
  {
   "cell_type": "code",
   "execution_count": 250,
   "metadata": {},
   "outputs": [],
   "source": [
    "data_young['user_id'] = 'young'\n",
    "data_old['user_id'] = 'old'"
   ]
  },
  {
   "cell_type": "code",
   "execution_count": 251,
   "metadata": {},
   "outputs": [],
   "source": [
    "data_subset = pd.concat([data_young, data_old], ignore_index=True)"
   ]
  },
  {
   "cell_type": "code",
   "execution_count": 253,
   "metadata": {},
   "outputs": [],
   "source": [
    "data_subset.drop(columns=['AreaId', 'BeginHour', 'PersonAgeGrp', 'KCustomer', 'QualClass', 'EasyClass'], inplace=True)"
   ]
  },
  {
   "cell_type": "code",
   "execution_count": 254,
   "metadata": {},
   "outputs": [
    {
     "data": {
      "text/html": [
       "<div>\n",
       "<style scoped>\n",
       "    .dataframe tbody tr th:only-of-type {\n",
       "        vertical-align: middle;\n",
       "    }\n",
       "\n",
       "    .dataframe tbody tr th {\n",
       "        vertical-align: top;\n",
       "    }\n",
       "\n",
       "    .dataframe thead th {\n",
       "        text-align: right;\n",
       "    }\n",
       "</style>\n",
       "<table border=\"1\" class=\"dataframe\">\n",
       "  <thead>\n",
       "    <tr style=\"text-align: right;\">\n",
       "      <th></th>\n",
       "      <th>Receipt</th>\n",
       "      <th>TransactionDate</th>\n",
       "      <th>EAN</th>\n",
       "      <th>Quantity</th>\n",
       "      <th>user_id</th>\n",
       "    </tr>\n",
       "  </thead>\n",
       "  <tbody>\n",
       "    <tr>\n",
       "      <td>0</td>\n",
       "      <td>446828127191328</td>\n",
       "      <td>2019-08-03</td>\n",
       "      <td>6408640995924</td>\n",
       "      <td>8.0</td>\n",
       "      <td>young</td>\n",
       "    </tr>\n",
       "    <tr>\n",
       "      <td>1</td>\n",
       "      <td>446828127191328</td>\n",
       "      <td>2019-08-03</td>\n",
       "      <td>6415600551090</td>\n",
       "      <td>1.0</td>\n",
       "      <td>young</td>\n",
       "    </tr>\n",
       "    <tr>\n",
       "      <td>2</td>\n",
       "      <td>446828127191328</td>\n",
       "      <td>2019-08-03</td>\n",
       "      <td>6430064401125</td>\n",
       "      <td>1.0</td>\n",
       "      <td>young</td>\n",
       "    </tr>\n",
       "    <tr>\n",
       "      <td>3</td>\n",
       "      <td>446828127191328</td>\n",
       "      <td>2019-08-03</td>\n",
       "      <td>2000973900008</td>\n",
       "      <td>1.0</td>\n",
       "      <td>young</td>\n",
       "    </tr>\n",
       "    <tr>\n",
       "      <td>4</td>\n",
       "      <td>446828127191328</td>\n",
       "      <td>2019-08-03</td>\n",
       "      <td>6413600167501</td>\n",
       "      <td>2.0</td>\n",
       "      <td>young</td>\n",
       "    </tr>\n",
       "  </tbody>\n",
       "</table>\n",
       "</div>"
      ],
      "text/plain": [
       "           Receipt TransactionDate            EAN  Quantity user_id\n",
       "0  446828127191328      2019-08-03  6408640995924       8.0   young\n",
       "1  446828127191328      2019-08-03  6415600551090       1.0   young\n",
       "2  446828127191328      2019-08-03  6430064401125       1.0   young\n",
       "3  446828127191328      2019-08-03  2000973900008       1.0   young\n",
       "4  446828127191328      2019-08-03  6413600167501       2.0   young"
      ]
     },
     "execution_count": 254,
     "metadata": {},
     "output_type": "execute_result"
    }
   ],
   "source": [
    "data_subset.head()"
   ]
  },
  {
   "cell_type": "code",
   "execution_count": 255,
   "metadata": {},
   "outputs": [],
   "source": [
    "data_subset.to_csv('data_subset.csv', index=False)"
   ]
  },
  {
   "cell_type": "code",
   "execution_count": 221,
   "metadata": {},
   "outputs": [
    {
     "data": {
      "text/plain": [
       "Timestamp('2017-11-01 00:00:00')"
      ]
     },
     "execution_count": 221,
     "metadata": {},
     "output_type": "execute_result"
    }
   ],
   "source": [
    "data_young['TransactionDate'].min()"
   ]
  },
  {
   "cell_type": "code",
   "execution_count": 222,
   "metadata": {},
   "outputs": [
    {
     "data": {
      "text/plain": [
       "Timestamp('2019-10-31 00:00:00')"
      ]
     },
     "execution_count": 222,
     "metadata": {},
     "output_type": "execute_result"
    }
   ],
   "source": [
    "data_young['TransactionDate'].max()"
   ]
  },
  {
   "cell_type": "code",
   "execution_count": 226,
   "metadata": {},
   "outputs": [
    {
     "data": {
      "text/plain": [
       "4804"
      ]
     },
     "execution_count": 226,
     "metadata": {},
     "output_type": "execute_result"
    }
   ],
   "source": [
    "data_young['Receipt'].nunique()"
   ]
  },
  {
   "cell_type": "code",
   "execution_count": 227,
   "metadata": {
    "scrolled": true
   },
   "outputs": [
    {
     "data": {
      "text/plain": [
       "2379"
      ]
     },
     "execution_count": 227,
     "metadata": {},
     "output_type": "execute_result"
    }
   ],
   "source": [
    "data_old['Receipt'].nunique()"
   ]
  },
  {
   "cell_type": "code",
   "execution_count": 230,
   "metadata": {},
   "outputs": [
    {
     "data": {
      "text/plain": [
       "array([450721792349421, 455109585418071, 450696221676072, 454085320960924,\n",
       "       446616206118797, 455454208253237, 449062736261979, 455366760071529,\n",
       "       449806440520771, 449441961383308, 453184953409073, 446828127191328,\n",
       "       449871144596011, 453422297275771, 451274647265067, 457433950162526,\n",
       "       456144012159158, 455014417787804, 455248974137488, 459249888532901,\n",
       "       449025388836783, 446539185471684, 457564040576294, 452775945997572,\n",
       "       447412527187983, 454566596584255, 453423426615653, 448653144544667,\n",
       "       455019974628145, 459394773410055])"
      ]
     },
     "execution_count": 230,
     "metadata": {},
     "output_type": "execute_result"
    }
   ],
   "source": [
    "receipts_young"
   ]
  },
  {
   "cell_type": "code",
   "execution_count": 7,
   "metadata": {},
   "outputs": [
    {
     "data": {
      "text/plain": [
       "(383038, 10)"
      ]
     },
     "execution_count": 7,
     "metadata": {},
     "output_type": "execute_result"
    }
   ],
   "source": [
    "data_young.shape"
   ]
  },
  {
   "cell_type": "code",
   "execution_count": 11,
   "metadata": {
    "scrolled": true
   },
   "outputs": [
    {
     "data": {
      "text/plain": [
       "71541"
      ]
     },
     "execution_count": 11,
     "metadata": {},
     "output_type": "execute_result"
    }
   ],
   "source": [
    "data_young['Receipt'].nunique()"
   ]
  },
  {
   "cell_type": "code",
   "execution_count": 22,
   "metadata": {},
   "outputs": [
    {
     "data": {
      "text/plain": [
       "AreaId\n",
       "1    1297364\n",
       "2    2106076\n",
       "3    1329669\n",
       "4    1418564\n",
       "Name: Receipt, dtype: int64"
      ]
     },
     "execution_count": 22,
     "metadata": {},
     "output_type": "execute_result"
    }
   ],
   "source": [
    "data.groupby(['AreaId'])['Receipt'].nunique()"
   ]
  },
  {
   "cell_type": "code",
   "execution_count": 10,
   "metadata": {},
   "outputs": [
    {
     "data": {
      "text/plain": [
       "(780536, 10)"
      ]
     },
     "execution_count": 10,
     "metadata": {},
     "output_type": "execute_result"
    }
   ],
   "source": [
    "data_old.shape"
   ]
  },
  {
   "cell_type": "code",
   "execution_count": 12,
   "metadata": {},
   "outputs": [
    {
     "data": {
      "text/plain": [
       "96914"
      ]
     },
     "execution_count": 12,
     "metadata": {},
     "output_type": "execute_result"
    }
   ],
   "source": [
    "data_old['Receipt'].nunique()"
   ]
  },
  {
   "cell_type": "code",
   "execution_count": 26,
   "metadata": {},
   "outputs": [
    {
     "data": {
      "text/plain": [
       "KCustomer\n",
       "6711    23590\n",
       "6712     1174\n",
       "6714     2915\n",
       "Name: Receipt, dtype: int64"
      ]
     },
     "execution_count": 26,
     "metadata": {},
     "output_type": "execute_result"
    }
   ],
   "source": [
    "data_young.groupby(['KCustomer'])['Receipt'].nunique()"
   ]
  },
  {
   "cell_type": "code",
   "execution_count": 24,
   "metadata": {},
   "outputs": [
    {
     "data": {
      "text/plain": [
       "KCustomer\n",
       "6711    7558\n",
       "6712    6251\n",
       "6713    2501\n",
       "6714     518\n",
       "Name: Receipt, dtype: int64"
      ]
     },
     "execution_count": 24,
     "metadata": {},
     "output_type": "execute_result"
    }
   ],
   "source": [
    "data_old.groupby(['KCustomer'])['Receipt'].nunique()"
   ]
  },
  {
   "cell_type": "code",
   "execution_count": 27,
   "metadata": {},
   "outputs": [
    {
     "data": {
      "text/plain": [
       "KCustomer\n",
       "6711    14985\n",
       "6712     2256\n",
       "6714     3102\n",
       "Name: EAN, dtype: int64"
      ]
     },
     "execution_count": 27,
     "metadata": {},
     "output_type": "execute_result"
    }
   ],
   "source": [
    "data_young.groupby(['KCustomer'])['EAN'].nunique()"
   ]
  },
  {
   "cell_type": "code",
   "execution_count": 29,
   "metadata": {},
   "outputs": [],
   "source": [
    "data_young_eans = set(data_young['EAN'])\n",
    "data_old_eans = set(data_old['EAN'])"
   ]
  },
  {
   "cell_type": "code",
   "execution_count": 31,
   "metadata": {},
   "outputs": [
    {
     "data": {
      "text/plain": [
       "26010"
      ]
     },
     "execution_count": 31,
     "metadata": {},
     "output_type": "execute_result"
    }
   ],
   "source": [
    "len(data_young_eans | data_old_eans)"
   ]
  },
  {
   "cell_type": "code",
   "execution_count": 32,
   "metadata": {},
   "outputs": [],
   "source": [
    "eans = list(data_young_eans | data_old_eans)"
   ]
  },
  {
   "cell_type": "code",
   "execution_count": 35,
   "metadata": {},
   "outputs": [],
   "source": [
    "eans_selected = [ean for ean in eans if not str(ean).startswith('2')]"
   ]
  },
  {
   "cell_type": "code",
   "execution_count": 50,
   "metadata": {},
   "outputs": [],
   "source": [
    "ean_value_counts = data['EAN'].value_counts()"
   ]
  },
  {
   "cell_type": "code",
   "execution_count": 54,
   "metadata": {},
   "outputs": [],
   "source": [
    "popular_eans = ean_value_counts.iloc[:5000].index\n",
    "popular_eans = [ean for ean in popular_eans if not str(ean).startswith('2')]"
   ]
  },
  {
   "cell_type": "code",
   "execution_count": 58,
   "metadata": {},
   "outputs": [
    {
     "data": {
      "text/plain": [
       "4584"
      ]
     },
     "execution_count": 58,
     "metadata": {},
     "output_type": "execute_result"
    }
   ],
   "source": [
    "len(popular_eans)"
   ]
  },
  {
   "cell_type": "code",
   "execution_count": 37,
   "metadata": {},
   "outputs": [
    {
     "data": {
      "text/plain": [
       "23971"
      ]
     },
     "execution_count": 37,
     "metadata": {},
     "output_type": "execute_result"
    }
   ],
   "source": [
    "len(eans_selected)"
   ]
  },
  {
   "cell_type": "code",
   "execution_count": 38,
   "metadata": {},
   "outputs": [],
   "source": [
    "import requests"
   ]
  },
  {
   "cell_type": "code",
   "execution_count": 49,
   "metadata": {
    "scrolled": true
   },
   "outputs": [
    {
     "data": {
      "application/vnd.jupyter.widget-view+json": {
       "model_id": "4c557f1f61ea4267b40866f36b3c4ffb",
       "version_major": 2,
       "version_minor": 0
      },
      "text/plain": [
       "HBox(children=(IntProgress(value=0, max=3000), HTML(value='')))"
      ]
     },
     "metadata": {},
     "output_type": "display_data"
    },
    {
     "name": "stdout",
     "output_type": "stream",
     "text": [
      "\n"
     ]
    }
   ],
   "source": [
    "ean_to_dict = {}\n",
    "\n",
    "for ean in tqdm(eans_selected[:3000]):\n",
    "    response = requests.post(url='https://kesko.azure-api.net/v1/search/products',\n",
    "                  headers={'Ocp-Apim-Subscription-Key': '50d5b4ef0f664d94b115f23c6da5b3e7',\n",
    "                           'Content-Type': 'application/json'},\n",
    "                  json={\"filters\": {\n",
    "                            \"ean\": str(ean)\n",
    "                        },\n",
    "                        \"view\": {\n",
    "                            \"offset\": 0,\n",
    "                            \"limit\": 10,\n",
    "                            \"showFacets\": {\n",
    "                                \"facets\": [\n",
    "                                    \"string\"\n",
    "                                ],\n",
    "                                \"limit\": 250\n",
    "                            },\n",
    "                            \"showAvailability\": {\n",
    "                                \"storeAvailability\": [\n",
    "                                    \"A208\",\n",
    "                                    \"A210\",\n",
    "                                    \"A212\",\n",
    "                                    \"A214\",\n",
    "                                    \"A216\",\n",
    "                                    \"A218\",\n",
    "                                    \"A300\",\n",
    "                                    \"A301\",\n",
    "                                    \"A302\",\n",
    "                                    \"A303\",\n",
    "                                    \"A304\",\n",
    "                                    \"A305\",\n",
    "                                    \"A306\",\n",
    "                                    \"A308\",\n",
    "                                    \"A310\",\n",
    "                                    \"A205\",\n",
    "                                    \"A311\",\n",
    "                                    \"A313\",\n",
    "                                    \"A314\"\n",
    "                                ],\n",
    "                                \"webstoreAvailability\": []\n",
    "                            }\n",
    "                        }\n",
    "                       }\n",
    "                 )\n",
    "    ean_to_dict[str(ean)] = response.json()"
   ]
  },
  {
   "cell_type": "code",
   "execution_count": 67,
   "metadata": {},
   "outputs": [
    {
     "data": {
      "text/plain": [
       " 1    2395\n",
       " 0     603\n",
       "-1       2\n",
       "dtype: int64"
      ]
     },
     "execution_count": 67,
     "metadata": {},
     "output_type": "execute_result"
    }
   ],
   "source": [
    "pd.Series([json['totalHits'] if 'totalHits' in json else -1 for ean, json in ean_to_dict.items()]).value_counts()"
   ]
  },
  {
   "cell_type": "code",
   "execution_count": 74,
   "metadata": {
    "scrolled": false
   },
   "outputs": [
    {
     "data": {
      "text/plain": [
       "[('6430037770302', {'totalHits': 0, 'results': []}),\n",
       " ('5765228396636', {'error': 'Processing Error.'}),\n",
       " ('6430037770333', {'totalHits': 0, 'results': []}),\n",
       " ('7315340001376', {'totalHits': 0, 'results': []}),\n",
       " ('3600523591831', {'totalHits': 0, 'results': []})]"
      ]
     },
     "execution_count": 74,
     "metadata": {},
     "output_type": "execute_result"
    }
   ],
   "source": [
    "[(ean , json) for ean, json in ean_to_dict.items() if 'totalHits' not in json or json['totalHits'] == 0][:5]"
   ]
  },
  {
   "cell_type": "code",
   "execution_count": 209,
   "metadata": {},
   "outputs": [],
   "source": [
    "products_df = pd.DataFrame([{'ean': ean,\n",
    "  'isAlcohol': json['results'][0]['isAlcohol'],\n",
    "  'pictureUrl': json['results'][0]['pictureUrls'][0]['original'] if json['results'][0]['pictureUrls'] else None,\n",
    "  'isConsumerGood': json['results'][0]['isConsumerGood'] if 'isConsumerGood' in json['results'][0] else None,\n",
    "  'marketingName_finnish': json['results'][0]['marketingName']['finnish'] if 'finnish' in json['results'][0]['marketingName'] else None,\n",
    "  'marketingName_english': json['results'][0]['marketingName']['english'] if 'english' in json['results'][0]['marketingName'] else None,\n",
    "  'ingredients_finnish': json['results'][0]['attributes']['MATERIAL_U']['value']['value'] if 'MATERIAL_U' in json['results'][0]['attributes'] else None,\n",
    "  'ingredients_english': json['results'][0]['attributes']['MATERIAL_E']['value']['value'] if 'MATERIAL_E' in json['results'][0]['attributes'] else None,\n",
    "  'net_weight': json['results'][0]['measurements']['netWeight'] if 'measurements' in json['results'][0] else None,\n",
    "  \n",
    "                             \n",
    "  'proteins': json['results'][0]['attributes']['PROTEG']['value']['value'] if 'PROTEG' in json['results'][0]['attributes'] else None,\n",
    "  'fats': json['results'][0]['attributes']['RASVAA']['value']['value'] if 'RASVAA' in json['results'][0]['attributes'] else None,\n",
    "  'carbohydrates': json['results'][0]['attributes']['HIHYDR']['value']['value'] if 'HIHYDR' in json['results'][0]['attributes'] else None,\n",
    "  \n",
    "  'kcal': json['results'][0]['attributes']['ENERKC']['value']['value'] if 'ENERKC' in json['results'][0]['attributes'] else None,\n",
    "  'fats_saturated': json['results'][0]['attributes']['TYYDRH']['value']['value'] if 'TYYDRH' in json['results'][0]['attributes'] else None,\n",
    "  'tags': json['results'][0]['attributes']['TX_RAVOMI']['value'] if 'TX_RAVOMI' in json['results'][0]['attributes'] else None,\n",
    "  \n",
    "\n",
    "                             \n",
    "} for ean, json in ean_to_dict.items() if 'totalHits' in json and json['totalHits'] == 1])\n",
    "\n"
   ]
  },
  {
   "cell_type": "code",
   "execution_count": 210,
   "metadata": {
    "scrolled": true
   },
   "outputs": [
    {
     "data": {
      "text/plain": [
       "2395"
      ]
     },
     "execution_count": 210,
     "metadata": {},
     "output_type": "execute_result"
    }
   ],
   "source": [
    "len(products_df)"
   ]
  },
  {
   "cell_type": "code",
   "execution_count": 217,
   "metadata": {},
   "outputs": [],
   "source": [
    "with open('tags_sample.json', 'wt', encoding='utf-8') as file:\n",
    "    file.write(json.dumps(products_df['tags'].iloc[:1000].to_dict()).encode().decode('unicode-escape'))"
   ]
  },
  {
   "cell_type": "code",
   "execution_count": null,
   "metadata": {},
   "outputs": [],
   "source": []
  },
  {
   "cell_type": "code",
   "execution_count": 202,
   "metadata": {},
   "outputs": [],
   "source": [
    "res = products_df['ingredients_finnish'].str.upper().str.extractall(r\"(?P<e_number>\\bE\\d{3,4}\\b)\")\n",
    "res['count'] = 1\n",
    "res.set_index('e_number', append=True, drop=True, inplace=True)\n",
    "\n",
    "res = res.unstack('e_number', fill_value=0)\n",
    "res = res.groupby(level=0, as_index=True, group_keys=False).sum()\n",
    "res = res.droplevel(0, axis=1)\n",
    "res = res.sort_index(axis=1)"
   ]
  },
  {
   "cell_type": "code",
   "execution_count": 203,
   "metadata": {},
   "outputs": [],
   "source": [
    "products_with_e = pd.concat([products_df, res], axis=1)"
   ]
  },
  {
   "cell_type": "code",
   "execution_count": 204,
   "metadata": {},
   "outputs": [],
   "source": [
    "products_with_e[res.columns] = products_with_e[res.columns].fillna(0).astype(int)"
   ]
  },
  {
   "cell_type": "code",
   "execution_count": 205,
   "metadata": {},
   "outputs": [
    {
     "data": {
      "text/html": [
       "<div>\n",
       "<style scoped>\n",
       "    .dataframe tbody tr th:only-of-type {\n",
       "        vertical-align: middle;\n",
       "    }\n",
       "\n",
       "    .dataframe tbody tr th {\n",
       "        vertical-align: top;\n",
       "    }\n",
       "\n",
       "    .dataframe thead th {\n",
       "        text-align: right;\n",
       "    }\n",
       "</style>\n",
       "<table border=\"1\" class=\"dataframe\">\n",
       "  <thead>\n",
       "    <tr style=\"text-align: right;\">\n",
       "      <th></th>\n",
       "      <th>E100</th>\n",
       "      <th>E101</th>\n",
       "      <th>E1105</th>\n",
       "      <th>E120</th>\n",
       "      <th>E1200</th>\n",
       "      <th>E129</th>\n",
       "      <th>E131</th>\n",
       "      <th>E132</th>\n",
       "      <th>E133</th>\n",
       "      <th>E140</th>\n",
       "      <th>...</th>\n",
       "      <th>E901</th>\n",
       "      <th>E903</th>\n",
       "      <th>E904</th>\n",
       "      <th>E950</th>\n",
       "      <th>E951</th>\n",
       "      <th>E954</th>\n",
       "      <th>E955</th>\n",
       "      <th>E965</th>\n",
       "      <th>E967</th>\n",
       "      <th>E999</th>\n",
       "    </tr>\n",
       "  </thead>\n",
       "  <tbody>\n",
       "    <tr>\n",
       "      <td>0</td>\n",
       "      <td>0</td>\n",
       "      <td>0</td>\n",
       "      <td>0</td>\n",
       "      <td>0</td>\n",
       "      <td>0</td>\n",
       "      <td>0</td>\n",
       "      <td>0</td>\n",
       "      <td>0</td>\n",
       "      <td>0</td>\n",
       "      <td>0</td>\n",
       "      <td>...</td>\n",
       "      <td>0</td>\n",
       "      <td>0</td>\n",
       "      <td>0</td>\n",
       "      <td>0</td>\n",
       "      <td>0</td>\n",
       "      <td>0</td>\n",
       "      <td>0</td>\n",
       "      <td>0</td>\n",
       "      <td>0</td>\n",
       "      <td>0</td>\n",
       "    </tr>\n",
       "    <tr>\n",
       "      <td>1</td>\n",
       "      <td>0</td>\n",
       "      <td>0</td>\n",
       "      <td>0</td>\n",
       "      <td>0</td>\n",
       "      <td>0</td>\n",
       "      <td>0</td>\n",
       "      <td>0</td>\n",
       "      <td>0</td>\n",
       "      <td>0</td>\n",
       "      <td>0</td>\n",
       "      <td>...</td>\n",
       "      <td>0</td>\n",
       "      <td>0</td>\n",
       "      <td>0</td>\n",
       "      <td>0</td>\n",
       "      <td>0</td>\n",
       "      <td>0</td>\n",
       "      <td>0</td>\n",
       "      <td>0</td>\n",
       "      <td>0</td>\n",
       "      <td>0</td>\n",
       "    </tr>\n",
       "    <tr>\n",
       "      <td>2</td>\n",
       "      <td>0</td>\n",
       "      <td>0</td>\n",
       "      <td>0</td>\n",
       "      <td>0</td>\n",
       "      <td>0</td>\n",
       "      <td>0</td>\n",
       "      <td>0</td>\n",
       "      <td>0</td>\n",
       "      <td>0</td>\n",
       "      <td>0</td>\n",
       "      <td>...</td>\n",
       "      <td>0</td>\n",
       "      <td>0</td>\n",
       "      <td>0</td>\n",
       "      <td>0</td>\n",
       "      <td>0</td>\n",
       "      <td>0</td>\n",
       "      <td>0</td>\n",
       "      <td>0</td>\n",
       "      <td>0</td>\n",
       "      <td>0</td>\n",
       "    </tr>\n",
       "    <tr>\n",
       "      <td>3</td>\n",
       "      <td>0</td>\n",
       "      <td>0</td>\n",
       "      <td>0</td>\n",
       "      <td>0</td>\n",
       "      <td>0</td>\n",
       "      <td>0</td>\n",
       "      <td>0</td>\n",
       "      <td>0</td>\n",
       "      <td>0</td>\n",
       "      <td>0</td>\n",
       "      <td>...</td>\n",
       "      <td>0</td>\n",
       "      <td>0</td>\n",
       "      <td>0</td>\n",
       "      <td>0</td>\n",
       "      <td>0</td>\n",
       "      <td>0</td>\n",
       "      <td>0</td>\n",
       "      <td>0</td>\n",
       "      <td>0</td>\n",
       "      <td>0</td>\n",
       "    </tr>\n",
       "    <tr>\n",
       "      <td>4</td>\n",
       "      <td>0</td>\n",
       "      <td>0</td>\n",
       "      <td>0</td>\n",
       "      <td>1</td>\n",
       "      <td>0</td>\n",
       "      <td>0</td>\n",
       "      <td>0</td>\n",
       "      <td>0</td>\n",
       "      <td>0</td>\n",
       "      <td>0</td>\n",
       "      <td>...</td>\n",
       "      <td>0</td>\n",
       "      <td>0</td>\n",
       "      <td>0</td>\n",
       "      <td>0</td>\n",
       "      <td>0</td>\n",
       "      <td>0</td>\n",
       "      <td>0</td>\n",
       "      <td>0</td>\n",
       "      <td>0</td>\n",
       "      <td>0</td>\n",
       "    </tr>\n",
       "    <tr>\n",
       "      <td>...</td>\n",
       "      <td>...</td>\n",
       "      <td>...</td>\n",
       "      <td>...</td>\n",
       "      <td>...</td>\n",
       "      <td>...</td>\n",
       "      <td>...</td>\n",
       "      <td>...</td>\n",
       "      <td>...</td>\n",
       "      <td>...</td>\n",
       "      <td>...</td>\n",
       "      <td>...</td>\n",
       "      <td>...</td>\n",
       "      <td>...</td>\n",
       "      <td>...</td>\n",
       "      <td>...</td>\n",
       "      <td>...</td>\n",
       "      <td>...</td>\n",
       "      <td>...</td>\n",
       "      <td>...</td>\n",
       "      <td>...</td>\n",
       "      <td>...</td>\n",
       "    </tr>\n",
       "    <tr>\n",
       "      <td>2390</td>\n",
       "      <td>0</td>\n",
       "      <td>0</td>\n",
       "      <td>0</td>\n",
       "      <td>0</td>\n",
       "      <td>0</td>\n",
       "      <td>0</td>\n",
       "      <td>0</td>\n",
       "      <td>0</td>\n",
       "      <td>0</td>\n",
       "      <td>0</td>\n",
       "      <td>...</td>\n",
       "      <td>0</td>\n",
       "      <td>0</td>\n",
       "      <td>0</td>\n",
       "      <td>0</td>\n",
       "      <td>0</td>\n",
       "      <td>0</td>\n",
       "      <td>0</td>\n",
       "      <td>0</td>\n",
       "      <td>0</td>\n",
       "      <td>0</td>\n",
       "    </tr>\n",
       "    <tr>\n",
       "      <td>2391</td>\n",
       "      <td>0</td>\n",
       "      <td>0</td>\n",
       "      <td>0</td>\n",
       "      <td>0</td>\n",
       "      <td>0</td>\n",
       "      <td>0</td>\n",
       "      <td>0</td>\n",
       "      <td>0</td>\n",
       "      <td>0</td>\n",
       "      <td>0</td>\n",
       "      <td>...</td>\n",
       "      <td>0</td>\n",
       "      <td>0</td>\n",
       "      <td>0</td>\n",
       "      <td>0</td>\n",
       "      <td>0</td>\n",
       "      <td>0</td>\n",
       "      <td>0</td>\n",
       "      <td>0</td>\n",
       "      <td>0</td>\n",
       "      <td>0</td>\n",
       "    </tr>\n",
       "    <tr>\n",
       "      <td>2392</td>\n",
       "      <td>0</td>\n",
       "      <td>0</td>\n",
       "      <td>0</td>\n",
       "      <td>0</td>\n",
       "      <td>0</td>\n",
       "      <td>0</td>\n",
       "      <td>0</td>\n",
       "      <td>0</td>\n",
       "      <td>0</td>\n",
       "      <td>0</td>\n",
       "      <td>...</td>\n",
       "      <td>0</td>\n",
       "      <td>0</td>\n",
       "      <td>0</td>\n",
       "      <td>0</td>\n",
       "      <td>0</td>\n",
       "      <td>0</td>\n",
       "      <td>0</td>\n",
       "      <td>0</td>\n",
       "      <td>0</td>\n",
       "      <td>0</td>\n",
       "    </tr>\n",
       "    <tr>\n",
       "      <td>2393</td>\n",
       "      <td>0</td>\n",
       "      <td>0</td>\n",
       "      <td>0</td>\n",
       "      <td>0</td>\n",
       "      <td>0</td>\n",
       "      <td>0</td>\n",
       "      <td>0</td>\n",
       "      <td>0</td>\n",
       "      <td>1</td>\n",
       "      <td>0</td>\n",
       "      <td>...</td>\n",
       "      <td>0</td>\n",
       "      <td>0</td>\n",
       "      <td>0</td>\n",
       "      <td>0</td>\n",
       "      <td>0</td>\n",
       "      <td>0</td>\n",
       "      <td>0</td>\n",
       "      <td>0</td>\n",
       "      <td>0</td>\n",
       "      <td>0</td>\n",
       "    </tr>\n",
       "    <tr>\n",
       "      <td>2394</td>\n",
       "      <td>0</td>\n",
       "      <td>0</td>\n",
       "      <td>0</td>\n",
       "      <td>0</td>\n",
       "      <td>0</td>\n",
       "      <td>0</td>\n",
       "      <td>0</td>\n",
       "      <td>0</td>\n",
       "      <td>0</td>\n",
       "      <td>0</td>\n",
       "      <td>...</td>\n",
       "      <td>0</td>\n",
       "      <td>0</td>\n",
       "      <td>0</td>\n",
       "      <td>0</td>\n",
       "      <td>0</td>\n",
       "      <td>0</td>\n",
       "      <td>0</td>\n",
       "      <td>0</td>\n",
       "      <td>0</td>\n",
       "      <td>0</td>\n",
       "    </tr>\n",
       "  </tbody>\n",
       "</table>\n",
       "<p>2395 rows × 125 columns</p>\n",
       "</div>"
      ],
      "text/plain": [
       "      E100  E101  E1105  E120  E1200  E129  E131  E132  E133  E140  ...  E901  \\\n",
       "0        0     0      0     0      0     0     0     0     0     0  ...     0   \n",
       "1        0     0      0     0      0     0     0     0     0     0  ...     0   \n",
       "2        0     0      0     0      0     0     0     0     0     0  ...     0   \n",
       "3        0     0      0     0      0     0     0     0     0     0  ...     0   \n",
       "4        0     0      0     1      0     0     0     0     0     0  ...     0   \n",
       "...    ...   ...    ...   ...    ...   ...   ...   ...   ...   ...  ...   ...   \n",
       "2390     0     0      0     0      0     0     0     0     0     0  ...     0   \n",
       "2391     0     0      0     0      0     0     0     0     0     0  ...     0   \n",
       "2392     0     0      0     0      0     0     0     0     0     0  ...     0   \n",
       "2393     0     0      0     0      0     0     0     0     1     0  ...     0   \n",
       "2394     0     0      0     0      0     0     0     0     0     0  ...     0   \n",
       "\n",
       "      E903  E904  E950  E951  E954  E955  E965  E967  E999  \n",
       "0        0     0     0     0     0     0     0     0     0  \n",
       "1        0     0     0     0     0     0     0     0     0  \n",
       "2        0     0     0     0     0     0     0     0     0  \n",
       "3        0     0     0     0     0     0     0     0     0  \n",
       "4        0     0     0     0     0     0     0     0     0  \n",
       "...    ...   ...   ...   ...   ...   ...   ...   ...   ...  \n",
       "2390     0     0     0     0     0     0     0     0     0  \n",
       "2391     0     0     0     0     0     0     0     0     0  \n",
       "2392     0     0     0     0     0     0     0     0     0  \n",
       "2393     0     0     0     0     0     0     0     0     0  \n",
       "2394     0     0     0     0     0     0     0     0     0  \n",
       "\n",
       "[2395 rows x 125 columns]"
      ]
     },
     "execution_count": 205,
     "metadata": {},
     "output_type": "execute_result"
    }
   ],
   "source": [
    "products_with_e[res.columns]"
   ]
  },
  {
   "cell_type": "code",
   "execution_count": 258,
   "metadata": {},
   "outputs": [
    {
     "data": {
      "text/html": [
       "<div>\n",
       "<style scoped>\n",
       "    .dataframe tbody tr th:only-of-type {\n",
       "        vertical-align: middle;\n",
       "    }\n",
       "\n",
       "    .dataframe tbody tr th {\n",
       "        vertical-align: top;\n",
       "    }\n",
       "\n",
       "    .dataframe thead th {\n",
       "        text-align: right;\n",
       "    }\n",
       "</style>\n",
       "<table border=\"1\" class=\"dataframe\">\n",
       "  <thead>\n",
       "    <tr style=\"text-align: right;\">\n",
       "      <th></th>\n",
       "      <th>ean</th>\n",
       "      <th>isAlcohol</th>\n",
       "      <th>pictureUrl</th>\n",
       "      <th>isConsumerGood</th>\n",
       "      <th>marketingName_finnish</th>\n",
       "      <th>marketingName_english</th>\n",
       "      <th>ingredients_finnish</th>\n",
       "      <th>ingredients_english</th>\n",
       "      <th>net_weight</th>\n",
       "      <th>proteins</th>\n",
       "      <th>...</th>\n",
       "      <th>E901</th>\n",
       "      <th>E903</th>\n",
       "      <th>E904</th>\n",
       "      <th>E950</th>\n",
       "      <th>E951</th>\n",
       "      <th>E954</th>\n",
       "      <th>E955</th>\n",
       "      <th>E965</th>\n",
       "      <th>E967</th>\n",
       "      <th>E999</th>\n",
       "    </tr>\n",
       "  </thead>\n",
       "  <tbody>\n",
       "    <tr>\n",
       "      <td>0</td>\n",
       "      <td>6412000034819</td>\n",
       "      <td>False</td>\n",
       "      <td>https://k-file-storage-qa.imgix.net/f/k-ruoka/...</td>\n",
       "      <td>False</td>\n",
       "      <td>Saarioinen pinaattiohukaiset puolukkahillolla ...</td>\n",
       "      <td>None</td>\n",
       "      <td>Pinaattiohukaiset 170 g:  VEHNÄjauho, vesi, pi...</td>\n",
       "      <td>None</td>\n",
       "      <td>0.20</td>\n",
       "      <td>4.8</td>\n",
       "      <td>...</td>\n",
       "      <td>0</td>\n",
       "      <td>0</td>\n",
       "      <td>0</td>\n",
       "      <td>0</td>\n",
       "      <td>0</td>\n",
       "      <td>0</td>\n",
       "      <td>0</td>\n",
       "      <td>0</td>\n",
       "      <td>0</td>\n",
       "      <td>0</td>\n",
       "    </tr>\n",
       "    <tr>\n",
       "      <td>1</td>\n",
       "      <td>6407970095106</td>\n",
       "      <td>False</td>\n",
       "      <td>https://k-file-storage-qa.imgix.net/f/k-ruoka/...</td>\n",
       "      <td>False</td>\n",
       "      <td>Korpela lihapyörykät 350g gluteeniton</td>\n",
       "      <td>Korpela meatballs 350g gluten-free</td>\n",
       "      <td>Sianliha (Suomi), vesi, muunnettu tärkkelys (t...</td>\n",
       "      <td>None</td>\n",
       "      <td>0.35</td>\n",
       "      <td>12.0</td>\n",
       "      <td>...</td>\n",
       "      <td>0</td>\n",
       "      <td>0</td>\n",
       "      <td>0</td>\n",
       "      <td>0</td>\n",
       "      <td>0</td>\n",
       "      <td>0</td>\n",
       "      <td>0</td>\n",
       "      <td>0</td>\n",
       "      <td>0</td>\n",
       "      <td>0</td>\n",
       "    </tr>\n",
       "    <tr>\n",
       "      <td>2</td>\n",
       "      <td>6412000034840</td>\n",
       "      <td>False</td>\n",
       "      <td>https://k-file-storage-qa.imgix.net/f/k-ruoka/...</td>\n",
       "      <td>False</td>\n",
       "      <td>Saarioinen riisipuuro 270g laktoositon</td>\n",
       "      <td>None</td>\n",
       "      <td>Laktoositon MAITOjuoma, riisi, vesi, laktoosit...</td>\n",
       "      <td>None</td>\n",
       "      <td>0.27</td>\n",
       "      <td>2.7</td>\n",
       "      <td>...</td>\n",
       "      <td>0</td>\n",
       "      <td>0</td>\n",
       "      <td>0</td>\n",
       "      <td>0</td>\n",
       "      <td>0</td>\n",
       "      <td>0</td>\n",
       "      <td>0</td>\n",
       "      <td>0</td>\n",
       "      <td>0</td>\n",
       "      <td>0</td>\n",
       "    </tr>\n",
       "    <tr>\n",
       "      <td>3</td>\n",
       "      <td>5701259100187</td>\n",
       "      <td>False</td>\n",
       "      <td>https://k-file-storage-qa.imgix.net/f/k-ruoka/...</td>\n",
       "      <td>False</td>\n",
       "      <td>Dansukker Taloussokeri 1kg</td>\n",
       "      <td>None</td>\n",
       "      <td>Sokeri</td>\n",
       "      <td>Sugar</td>\n",
       "      <td>1.00</td>\n",
       "      <td>0.0</td>\n",
       "      <td>...</td>\n",
       "      <td>0</td>\n",
       "      <td>0</td>\n",
       "      <td>0</td>\n",
       "      <td>0</td>\n",
       "      <td>0</td>\n",
       "      <td>0</td>\n",
       "      <td>0</td>\n",
       "      <td>0</td>\n",
       "      <td>0</td>\n",
       "      <td>0</td>\n",
       "    </tr>\n",
       "    <tr>\n",
       "      <td>4</td>\n",
       "      <td>6411401035807</td>\n",
       "      <td>False</td>\n",
       "      <td>https://k-file-storage-qa.imgix.net/f/k-ruoka/...</td>\n",
       "      <td>False</td>\n",
       "      <td>Fazerin Parhain 220g pussi</td>\n",
       "      <td>None</td>\n",
       "      <td>sokeri, glukoosisiirappi, MAITO,kasvirasva (pa...</td>\n",
       "      <td>sugar, glucose syrup, MILK, vegetable fat (pal...</td>\n",
       "      <td>0.22</td>\n",
       "      <td>1.6</td>\n",
       "      <td>...</td>\n",
       "      <td>0</td>\n",
       "      <td>0</td>\n",
       "      <td>0</td>\n",
       "      <td>0</td>\n",
       "      <td>0</td>\n",
       "      <td>0</td>\n",
       "      <td>0</td>\n",
       "      <td>0</td>\n",
       "      <td>0</td>\n",
       "      <td>0</td>\n",
       "    </tr>\n",
       "  </tbody>\n",
       "</table>\n",
       "<p>5 rows × 139 columns</p>\n",
       "</div>"
      ],
      "text/plain": [
       "             ean  isAlcohol  \\\n",
       "0  6412000034819      False   \n",
       "1  6407970095106      False   \n",
       "2  6412000034840      False   \n",
       "3  5701259100187      False   \n",
       "4  6411401035807      False   \n",
       "\n",
       "                                          pictureUrl isConsumerGood  \\\n",
       "0  https://k-file-storage-qa.imgix.net/f/k-ruoka/...          False   \n",
       "1  https://k-file-storage-qa.imgix.net/f/k-ruoka/...          False   \n",
       "2  https://k-file-storage-qa.imgix.net/f/k-ruoka/...          False   \n",
       "3  https://k-file-storage-qa.imgix.net/f/k-ruoka/...          False   \n",
       "4  https://k-file-storage-qa.imgix.net/f/k-ruoka/...          False   \n",
       "\n",
       "                               marketingName_finnish  \\\n",
       "0  Saarioinen pinaattiohukaiset puolukkahillolla ...   \n",
       "1              Korpela lihapyörykät 350g gluteeniton   \n",
       "2             Saarioinen riisipuuro 270g laktoositon   \n",
       "3                         Dansukker Taloussokeri 1kg   \n",
       "4                         Fazerin Parhain 220g pussi   \n",
       "\n",
       "                marketingName_english  \\\n",
       "0                                None   \n",
       "1  Korpela meatballs 350g gluten-free   \n",
       "2                                None   \n",
       "3                                None   \n",
       "4                                None   \n",
       "\n",
       "                                 ingredients_finnish  \\\n",
       "0  Pinaattiohukaiset 170 g:  VEHNÄjauho, vesi, pi...   \n",
       "1  Sianliha (Suomi), vesi, muunnettu tärkkelys (t...   \n",
       "2  Laktoositon MAITOjuoma, riisi, vesi, laktoosit...   \n",
       "3                                             Sokeri   \n",
       "4  sokeri, glukoosisiirappi, MAITO,kasvirasva (pa...   \n",
       "\n",
       "                                 ingredients_english  net_weight  proteins  \\\n",
       "0                                               None        0.20       4.8   \n",
       "1                                               None        0.35      12.0   \n",
       "2                                               None        0.27       2.7   \n",
       "3                                              Sugar        1.00       0.0   \n",
       "4  sugar, glucose syrup, MILK, vegetable fat (pal...        0.22       1.6   \n",
       "\n",
       "   ...  E901  E903  E904  E950  E951  E954  E955  E965  E967  E999  \n",
       "0  ...     0     0     0     0     0     0     0     0     0     0  \n",
       "1  ...     0     0     0     0     0     0     0     0     0     0  \n",
       "2  ...     0     0     0     0     0     0     0     0     0     0  \n",
       "3  ...     0     0     0     0     0     0     0     0     0     0  \n",
       "4  ...     0     0     0     0     0     0     0     0     0     0  \n",
       "\n",
       "[5 rows x 139 columns]"
      ]
     },
     "execution_count": 258,
     "metadata": {},
     "output_type": "execute_result"
    }
   ],
   "source": [
    "products_with_e.head()"
   ]
  },
  {
   "cell_type": "code",
   "execution_count": 266,
   "metadata": {},
   "outputs": [],
   "source": [
    "e_count = products_with_e[[col for col in products_with_e.columns if col.startswith('E')]].sum(axis=0)\n",
    "\n",
    "res = e_count.sort_values(ascending=False).iloc[:10].to_dict()"
   ]
  },
  {
   "cell_type": "code",
   "execution_count": 257,
   "metadata": {},
   "outputs": [
    {
     "data": {
      "text/plain": [
       "array(['E100', 'E101', 'E1105', 'E120', 'E1200', 'E129', 'E131', 'E132',\n",
       "       'E133', 'E140', 'E141', 'E1414', 'E1420', 'E1422', 'E1442', 'E150',\n",
       "       'E1520', 'E1521', 'E153', 'E160', 'E162', 'E163', 'E170', 'E171',\n",
       "       'E172', 'E200', 'E202', 'E211', 'E212', 'E216', 'E220', 'E221',\n",
       "       'E223', 'E224', 'E235', 'E250', 'E251', 'E252', 'E260', 'E261',\n",
       "       'E262', 'E263', 'E270', 'E281', 'E282', 'E296', 'E300', 'E301',\n",
       "       'E304', 'E306', 'E315', 'E316', 'E320', 'E322', 'E325', 'E326',\n",
       "       'E327', 'E330', 'E331', 'E333', 'E334', 'E336', 'E337', 'E338',\n",
       "       'E339', 'E340', 'E341', 'E385', 'E401', 'E402', 'E404', 'E405',\n",
       "       'E406', 'E407', 'E410', 'E412', 'E414', 'E415', 'E418', 'E420',\n",
       "       'E422', 'E440', 'E442', 'E444', 'E445', 'E450', 'E451', 'E452',\n",
       "       'E460', 'E461', 'E463', 'E464', 'E466', 'E471', 'E473', 'E475',\n",
       "       'E476', 'E481', 'E492', 'E494', 'E499', 'E500', 'E503', 'E508',\n",
       "       'E509', 'E535', 'E551', 'E570', 'E575', 'E579', 'E621', 'E627',\n",
       "       'E631', 'E635', 'E640', 'E901', 'E903', 'E904', 'E950', 'E951',\n",
       "       'E954', 'E955', 'E965', 'E967', 'E999'], dtype=object)"
      ]
     },
     "execution_count": 257,
     "metadata": {},
     "output_type": "execute_result"
    }
   ],
   "source": [
    "res.columns.values"
   ]
  },
  {
   "cell_type": "code",
   "execution_count": 208,
   "metadata": {},
   "outputs": [],
   "source": [
    "products_with_e.to_csv('products_v2.csv', index=False)"
   ]
  },
  {
   "cell_type": "code",
   "execution_count": 112,
   "metadata": {},
   "outputs": [
    {
     "data": {
      "text/html": [
       "<div>\n",
       "<style scoped>\n",
       "    .dataframe tbody tr th:only-of-type {\n",
       "        vertical-align: middle;\n",
       "    }\n",
       "\n",
       "    .dataframe tbody tr th {\n",
       "        vertical-align: top;\n",
       "    }\n",
       "\n",
       "    .dataframe thead th {\n",
       "        text-align: right;\n",
       "    }\n",
       "</style>\n",
       "<table border=\"1\" class=\"dataframe\">\n",
       "  <thead>\n",
       "    <tr style=\"text-align: right;\">\n",
       "      <th></th>\n",
       "      <th></th>\n",
       "      <th>e_number</th>\n",
       "    </tr>\n",
       "    <tr>\n",
       "      <th></th>\n",
       "      <th>match</th>\n",
       "      <th></th>\n",
       "    </tr>\n",
       "  </thead>\n",
       "  <tbody>\n",
       "    <tr>\n",
       "      <td rowspan=\"2\" valign=\"top\">1</td>\n",
       "      <td>0</td>\n",
       "      <td>E450</td>\n",
       "    </tr>\n",
       "    <tr>\n",
       "      <td>1</td>\n",
       "      <td>E322</td>\n",
       "    </tr>\n",
       "    <tr>\n",
       "      <td rowspan=\"6\" valign=\"top\">4</td>\n",
       "      <td>0</td>\n",
       "      <td>E330</td>\n",
       "    </tr>\n",
       "    <tr>\n",
       "      <td>1</td>\n",
       "      <td>E331</td>\n",
       "    </tr>\n",
       "    <tr>\n",
       "      <td>2</td>\n",
       "      <td>E420</td>\n",
       "    </tr>\n",
       "    <tr>\n",
       "      <td>3</td>\n",
       "      <td>E471</td>\n",
       "    </tr>\n",
       "    <tr>\n",
       "      <td>4</td>\n",
       "      <td>E141</td>\n",
       "    </tr>\n",
       "    <tr>\n",
       "      <td>5</td>\n",
       "      <td>E120</td>\n",
       "    </tr>\n",
       "    <tr>\n",
       "      <td rowspan=\"2\" valign=\"top\">10</td>\n",
       "      <td>0</td>\n",
       "      <td>E330</td>\n",
       "    </tr>\n",
       "    <tr>\n",
       "      <td>1</td>\n",
       "      <td>E300</td>\n",
       "    </tr>\n",
       "  </tbody>\n",
       "</table>\n",
       "</div>"
      ],
      "text/plain": [
       "         e_number\n",
       "   match         \n",
       "1  0         E450\n",
       "   1         E322\n",
       "4  0         E330\n",
       "   1         E331\n",
       "   2         E420\n",
       "   3         E471\n",
       "   4         E141\n",
       "   5         E120\n",
       "10 0         E330\n",
       "   1         E300"
      ]
     },
     "execution_count": 112,
     "metadata": {},
     "output_type": "execute_result"
    }
   ],
   "source": [
    "res.head(10)"
   ]
  },
  {
   "cell_type": "code",
   "execution_count": 118,
   "metadata": {},
   "outputs": [
    {
     "data": {
      "text/plain": [
       "125"
      ]
     },
     "execution_count": 118,
     "metadata": {},
     "output_type": "execute_result"
    }
   ],
   "source": [
    "res['e_number'].nunique()"
   ]
  },
  {
   "cell_type": "code",
   "execution_count": 100,
   "metadata": {},
   "outputs": [],
   "source": [
    "products_df.to_csv('products_v1.csv', index=False)"
   ]
  },
  {
   "cell_type": "code",
   "execution_count": 65,
   "metadata": {},
   "outputs": [
    {
     "name": "stdout",
     "output_type": "stream",
     "text": [
      "1\n"
     ]
    }
   ],
   "source": [
    "for key, value in ean_to_dict.items():\n",
    "    print(value['totalHits'])\n",
    "    break"
   ]
  },
  {
   "cell_type": "code",
   "execution_count": 94,
   "metadata": {},
   "outputs": [],
   "source": [
    "with open('eans_sample.json', 'wt') as file:\n",
    "    json.dump(ean_to_dict, file)"
   ]
  },
  {
   "cell_type": "code",
   "execution_count": 43,
   "metadata": {
    "scrolled": false
   },
   "outputs": [
    {
     "data": {
      "text/plain": [
       "{'totalHits': 1,\n",
       " 'results': [{'urlSlug': 'korpela-lihapyorykat-350g-gluteeniton-6407970095106',\n",
       "   'isAlcohol': False,\n",
       "   'pictureUrls': [{'original': 'https://k-file-storage-qa.imgix.net/f/k-ruoka/product/6407970095106'}],\n",
       "   'isConsumerGood': False,\n",
       "   'description': {},\n",
       "   'type': 'kRuoka',\n",
       "   'marketingName': {'swedish': 'Korpela köttbullar 350g glutenfri',\n",
       "    'finnish': 'Korpela lihapyörykät 350g gluteeniton',\n",
       "    'english': 'Korpela meatballs 350g gluten-free'},\n",
       "   'ean': '6407970095106',\n",
       "   'segment': {'finnish': 'Pyörykät, pihvit, puikot, kääryleet', 'id': '1310'},\n",
       "   'popularity': 0,\n",
       "   'attributes': {'HOEHE': {'value': {'type': 'decimal', 'value': 11.4}},\n",
       "    'LANDX': {'value': {'type': 'string', 'value': 'Suomi'}},\n",
       "    'NTGEW': {'value': {'type': 'decimal', 'value': 0.35}},\n",
       "    'ZZVENDOR': {'value': {'type': 'string',\n",
       "      'explanation': {'finnish': 'LIHAJALOSTE KORPELA OY'},\n",
       "      'value': '66149'}},\n",
       "    'ENERKC': {'value': {'type': 'decimal', 'value': 240}},\n",
       "    'MATERIAL_U': {'value': {'type': 'string',\n",
       "      'value': 'Sianliha (Suomi), vesi, muunnettu tärkkelys (tapioka), perunajauho, mausteet (mm. mustapippuri, korianteri), suola, dekstroosi, perunahiutale, perunakuitu, stabilointiaine (E450), emulgointiaine (E322).'}},\n",
       "    'MAKTM_E': {'value': {'type': 'string',\n",
       "      'value': 'Korpela meatballs 350g gluten-free'}},\n",
       "    'MATERIAL_V': {'value': {'type': 'string',\n",
       "      'value': 'Svinkött (Finland), vatten, modifierad stärkelse (tapioka), potatismjöl, kryddor (bl.a. svartpeppar, koriander), salt, dextros, potatisflinga, potatisfiber, stabiliseringsmedel (E450), emulgeringsmedel (E322).'}},\n",
       "    'ZZDISCODATE': {'value': {'type': 'date', 'value': '2019-06-19'}},\n",
       "    'INHAL': {'value': {'type': 'decimal', 'value': 0.35}},\n",
       "    'APPROVED_ATTRIBUTES': {'value': {'type': 'string', 'value': 'ALL'}},\n",
       "    'TX_ADD_U': {'value': {'type': 'string', 'value': 'Suojakaasu;'}},\n",
       "    'MAKTXRU': {'value': {'type': 'string',\n",
       "      'value': 'Korpela köttbullar 350g glutenfri'}},\n",
       "    'ZZENDDA': {'value': {'type': 'date', 'value': '2017-09-01'}},\n",
       "    'KUPAEAN11': {'value': {'type': 'string', 'value': '6407970195103'}},\n",
       "    'MAKTXEN': {'value': {'type': 'string',\n",
       "      'value': 'Korpela meatballs 350g gluten-free'}},\n",
       "    'RASVAA': {'value': {'type': 'decimal', 'value': 18}},\n",
       "    'SUOLA': {'value': {'type': 'decimal', 'value': 0.9}},\n",
       "    'KUVPAI': {'value': {'type': 'string', 'value': 'KYLLÄ'}},\n",
       "    'SYNDICATION_APPROVAL_DATE': {'value': {'type': 'dateTime',\n",
       "      'value': '2019-11-14T13:02:14.000+02:00'}},\n",
       "    'ENERKJ': {'value': {'type': 'decimal', 'value': 1010}},\n",
       "    'MAKTX': {'value': {'type': 'string',\n",
       "      'value': 'Korpela lihapyörykät 350g gluteeniton'}},\n",
       "    'TYYDRH': {'value': {'type': 'decimal', 'value': 7.6}},\n",
       "    'PDB_BLOCKING_CODE_DATE': {'value': {'type': 'date',\n",
       "      'value': '2019-06-19'}},\n",
       "    'HIHYDR': {'value': {'type': 'decimal', 'value': 8.2}},\n",
       "    'LAENG': {'value': {'type': 'decimal', 'value': 4.7}},\n",
       "    'WHERL': {'value': {'type': 'string',\n",
       "      'explanation': {'finnish': 'Suomi'},\n",
       "      'value': 'FI'}},\n",
       "    'PROTEG': {'value': {'type': 'decimal', 'value': 12}},\n",
       "    'BREIT': {'value': {'type': 'decimal', 'value': 20.2}},\n",
       "    'PDB_BLOCKING_CODE': {'value': {'type': 'string', 'value': 'ZL'}},\n",
       "    'TX_RAVOMI': {'explanation': {'finnish': 'Ravitsemukselliset ominaisuudet'},\n",
       "     'value': [{'type': 'string',\n",
       "       'explanation': {'swedish': 'Glutenfri, mindre än 20 mg / kg',\n",
       "        'finnish': 'Gluteeniton}, alle 20 mg/1 kg'},\n",
       "       'abbreviation': 'GNF',\n",
       "       'value': '3'},\n",
       "      {'type': 'string',\n",
       "       'explanation': {'swedish': 'Laktosfri',\n",
       "        'finnish': 'Laktoositon',\n",
       "        'english': 'Lactose free'},\n",
       "       'abbreviation': 'LTF',\n",
       "       'value': '10'}]},\n",
       "    'ZZBRAND': {'value': {'type': 'string',\n",
       "      'explanation': {'finnish': 'KORPELA'},\n",
       "      'value': '02441'}},\n",
       "    'LAND1': {'value': {'type': 'string', 'value': 'FI'}},\n",
       "    'UMRE': {'value': {'type': 'decimal', 'value': 3}},\n",
       "    'ORT01': {'value': {'type': 'string', 'value': 'HUITTINEN'}},\n",
       "    'PSTLZ': {'value': {'type': 'string', 'value': '32701'}},\n",
       "    'INHME': {'value': {'type': 'string', 'value': 'KG'}},\n",
       "    'KAYMAA': {'value': {'type': 'decimal', 'value': 0}},\n",
       "    'SOKERI': {'value': {'type': 'decimal', 'value': 1.5}},\n",
       "    'MAKTE': {'value': {'type': 'string',\n",
       "      'value': 'Korpela lihapyörykät 350g gluteeniton'}},\n",
       "    'MAKTM_V': {'value': {'type': 'string',\n",
       "      'value': 'Korpela köttbullar 350g glutenfri'}},\n",
       "    'MAKTM_U': {'value': {'type': 'string',\n",
       "      'value': 'Korpela lihapyörykät 350g gluteeniton'}},\n",
       "    'EAN11': {'value': {'type': 'string', 'value': '6407970095106'}},\n",
       "    'MATKL': {'value': {'type': 'string',\n",
       "      'explanation': {'finnish': 'Pyörykät, pihvit, puikot, kääryleet'},\n",
       "      'value': '1310'}},\n",
       "    'LIFNR': {'value': {'type': 'string', 'value': '0000066149'}},\n",
       "    'LAST_CHANGE_DATE': {'value': {'type': 'dateTime',\n",
       "      'value': '2019-11-14T13:02:14.000+02:00'}}},\n",
       "   'labelName': {'swedish': 'Korpela köttbullar 350g glutenfri',\n",
       "    'finnish': 'Korpela lihapyörykät 350g gluteeniton',\n",
       "    'english': 'Korpela meatballs 350g gluten-free'},\n",
       "   'category': {'finnish': 'Valmisruoat', 'id': '20'},\n",
       "   'subcategory': {'finnish': 'Pihvit, puikot, pyörykät ja ohukaiset',\n",
       "    'id': '208'},\n",
       "   'brand': 'korpela',\n",
       "   'dataSource': 'kRuoka',\n",
       "   'measurements': {'volume': 1.08,\n",
       "    'netWeight': 0.35,\n",
       "    'width': 20.2,\n",
       "    'length': 4.7,\n",
       "    'height': 11.4},\n",
       "   'resourceType': 'product',\n",
       "   'Sort': [1, 1, 0, '6407970095106-kRuoka']}]}"
      ]
     },
     "execution_count": 43,
     "metadata": {},
     "output_type": "execute_result"
    }
   ],
   "source": [
    "{\n",
    "    \n",
    "} for ean, json in ean_to_dict.items()"
   ]
  },
  {
   "cell_type": "code",
   "execution_count": 36,
   "metadata": {},
   "outputs": [
    {
     "data": {
      "text/plain": [
       "[6412000034819,\n",
       " 6407970095106,\n",
       " 6412000034840,\n",
       " 5701259100187,\n",
       " 6411401035807,\n",
       " 5701092114471,\n",
       " 6412000034857,\n",
       " 6411300634682,\n",
       " 6408641052732,\n",
       " 6430037770302]"
      ]
     },
     "execution_count": 36,
     "metadata": {},
     "output_type": "execute_result"
    }
   ],
   "source": [
    "eans_selected[:10]"
   ]
  },
  {
   "cell_type": "code",
   "execution_count": 28,
   "metadata": {},
   "outputs": [
    {
     "data": {
      "text/plain": [
       "KCustomer\n",
       "6711    12870\n",
       "6712    10553\n",
       "6713     8140\n",
       "6714     2119\n",
       "Name: EAN, dtype: int64"
      ]
     },
     "execution_count": 28,
     "metadata": {},
     "output_type": "execute_result"
    }
   ],
   "source": [
    "data_old.groupby(['KCustomer'])['EAN'].nunique()"
   ]
  },
  {
   "cell_type": "code",
   "execution_count": 17,
   "metadata": {
    "scrolled": true
   },
   "outputs": [
    {
     "data": {
      "text/html": [
       "<div>\n",
       "<style scoped>\n",
       "    .dataframe tbody tr th:only-of-type {\n",
       "        vertical-align: middle;\n",
       "    }\n",
       "\n",
       "    .dataframe tbody tr th {\n",
       "        vertical-align: top;\n",
       "    }\n",
       "\n",
       "    .dataframe thead th {\n",
       "        text-align: right;\n",
       "    }\n",
       "</style>\n",
       "<table border=\"1\" class=\"dataframe\">\n",
       "  <thead>\n",
       "    <tr style=\"text-align: right;\">\n",
       "      <th></th>\n",
       "      <th>AreaId</th>\n",
       "      <th>Receipt</th>\n",
       "      <th>TransactionDate</th>\n",
       "      <th>BeginHour</th>\n",
       "      <th>EAN</th>\n",
       "      <th>Quantity</th>\n",
       "      <th>PersonAgeGrp</th>\n",
       "      <th>KCustomer</th>\n",
       "      <th>QualClass</th>\n",
       "      <th>EasyClass</th>\n",
       "    </tr>\n",
       "  </thead>\n",
       "  <tbody>\n",
       "    <tr>\n",
       "      <td>7434</td>\n",
       "      <td>1</td>\n",
       "      <td>420047458681112</td>\n",
       "      <td>2019-01-30</td>\n",
       "      <td>8</td>\n",
       "      <td>6412000034789</td>\n",
       "      <td>1.0</td>\n",
       "      <td>18-24</td>\n",
       "      <td>6711</td>\n",
       "      <td>Q_1-3</td>\n",
       "      <td>E_8-10</td>\n",
       "    </tr>\n",
       "    <tr>\n",
       "      <td>7578</td>\n",
       "      <td>1</td>\n",
       "      <td>420047458681112</td>\n",
       "      <td>2019-01-30</td>\n",
       "      <td>8</td>\n",
       "      <td>6408430023608</td>\n",
       "      <td>1.0</td>\n",
       "      <td>18-24</td>\n",
       "      <td>6711</td>\n",
       "      <td>Q_1-3</td>\n",
       "      <td>E_8-10</td>\n",
       "    </tr>\n",
       "    <tr>\n",
       "      <td>7722</td>\n",
       "      <td>1</td>\n",
       "      <td>420047458681112</td>\n",
       "      <td>2019-01-30</td>\n",
       "      <td>8</td>\n",
       "      <td>6408430024858</td>\n",
       "      <td>2.0</td>\n",
       "      <td>18-24</td>\n",
       "      <td>6711</td>\n",
       "      <td>Q_1-3</td>\n",
       "      <td>E_8-10</td>\n",
       "    </tr>\n",
       "    <tr>\n",
       "      <td>7866</td>\n",
       "      <td>1</td>\n",
       "      <td>420047458681112</td>\n",
       "      <td>2019-01-30</td>\n",
       "      <td>8</td>\n",
       "      <td>6411401017575</td>\n",
       "      <td>1.0</td>\n",
       "      <td>18-24</td>\n",
       "      <td>6711</td>\n",
       "      <td>Q_1-3</td>\n",
       "      <td>E_8-10</td>\n",
       "    </tr>\n",
       "    <tr>\n",
       "      <td>71</td>\n",
       "      <td>1</td>\n",
       "      <td>420193976441735</td>\n",
       "      <td>2019-01-30</td>\n",
       "      <td>10</td>\n",
       "      <td>6408641827200</td>\n",
       "      <td>2.0</td>\n",
       "      <td>18-24</td>\n",
       "      <td>6711</td>\n",
       "      <td>Q_1-3</td>\n",
       "      <td>E_8-10</td>\n",
       "    </tr>\n",
       "  </tbody>\n",
       "</table>\n",
       "</div>"
      ],
      "text/plain": [
       "      AreaId          Receipt TransactionDate  BeginHour            EAN  \\\n",
       "7434       1  420047458681112      2019-01-30          8  6412000034789   \n",
       "7578       1  420047458681112      2019-01-30          8  6408430023608   \n",
       "7722       1  420047458681112      2019-01-30          8  6408430024858   \n",
       "7866       1  420047458681112      2019-01-30          8  6411401017575   \n",
       "71         1  420193976441735      2019-01-30         10  6408641827200   \n",
       "\n",
       "      Quantity PersonAgeGrp  KCustomer QualClass EasyClass  \n",
       "7434       1.0        18-24       6711     Q_1-3    E_8-10  \n",
       "7578       1.0        18-24       6711     Q_1-3    E_8-10  \n",
       "7722       2.0        18-24       6711     Q_1-3    E_8-10  \n",
       "7866       1.0        18-24       6711     Q_1-3    E_8-10  \n",
       "71         2.0        18-24       6711     Q_1-3    E_8-10  "
      ]
     },
     "execution_count": 17,
     "metadata": {},
     "output_type": "execute_result"
    }
   ],
   "source": [
    "data_young.head()"
   ]
  },
  {
   "cell_type": "code",
   "execution_count": 20,
   "metadata": {},
   "outputs": [
    {
     "data": {
      "text/plain": [
       "6711    422\n",
       "6714     54\n",
       "6712     24\n",
       "Name: KCustomer, dtype: int64"
      ]
     },
     "execution_count": 20,
     "metadata": {},
     "output_type": "execute_result"
    }
   ],
   "source": [
    "data_young['KCustomer'].value_counts()"
   ]
  },
  {
   "cell_type": "code",
   "execution_count": 16,
   "metadata": {},
   "outputs": [
    {
     "data": {
      "text/plain": [
       "(0, 10)"
      ]
     },
     "execution_count": 16,
     "metadata": {},
     "output_type": "execute_result"
    }
   ],
   "source": [
    "data_old.shape"
   ]
  },
  {
   "cell_type": "code",
   "execution_count": 12,
   "metadata": {},
   "outputs": [],
   "source": [
    "data.sort_values(['AreaId', 'PersonAgeGrp', 'KCustomer', 'QualClass', 'EasyClass',\n",
    "                  'TransactionDate', 'BeginHour', 'Receipt'], inplace=True)"
   ]
  },
  {
   "cell_type": "code",
   "execution_count": 13,
   "metadata": {},
   "outputs": [
    {
     "data": {
      "text/html": [
       "<div>\n",
       "<style scoped>\n",
       "    .dataframe tbody tr th:only-of-type {\n",
       "        vertical-align: middle;\n",
       "    }\n",
       "\n",
       "    .dataframe tbody tr th {\n",
       "        vertical-align: top;\n",
       "    }\n",
       "\n",
       "    .dataframe thead th {\n",
       "        text-align: right;\n",
       "    }\n",
       "</style>\n",
       "<table border=\"1\" class=\"dataframe\">\n",
       "  <thead>\n",
       "    <tr style=\"text-align: right;\">\n",
       "      <th></th>\n",
       "      <th>AreaId</th>\n",
       "      <th>Receipt</th>\n",
       "      <th>TransactionDate</th>\n",
       "      <th>BeginHour</th>\n",
       "      <th>EAN</th>\n",
       "      <th>Quantity</th>\n",
       "      <th>PersonAgeGrp</th>\n",
       "      <th>KCustomer</th>\n",
       "      <th>QualClass</th>\n",
       "      <th>EasyClass</th>\n",
       "    </tr>\n",
       "  </thead>\n",
       "  <tbody>\n",
       "    <tr>\n",
       "      <td>12091</td>\n",
       "      <td>1</td>\n",
       "      <td>420220933163461</td>\n",
       "      <td>2019-01-30</td>\n",
       "      <td>13</td>\n",
       "      <td>6413600017189</td>\n",
       "      <td>1.000</td>\n",
       "      <td>18-24</td>\n",
       "      <td>6711</td>\n",
       "      <td>Q_1-3</td>\n",
       "      <td>E_1-3</td>\n",
       "    </tr>\n",
       "    <tr>\n",
       "      <td>12235</td>\n",
       "      <td>1</td>\n",
       "      <td>420220933163461</td>\n",
       "      <td>2019-01-30</td>\n",
       "      <td>13</td>\n",
       "      <td>5701259100187</td>\n",
       "      <td>2.000</td>\n",
       "      <td>18-24</td>\n",
       "      <td>6711</td>\n",
       "      <td>Q_1-3</td>\n",
       "      <td>E_1-3</td>\n",
       "    </tr>\n",
       "    <tr>\n",
       "      <td>12379</td>\n",
       "      <td>1</td>\n",
       "      <td>420220933163461</td>\n",
       "      <td>2019-01-30</td>\n",
       "      <td>13</td>\n",
       "      <td>6411600081162</td>\n",
       "      <td>5.000</td>\n",
       "      <td>18-24</td>\n",
       "      <td>6711</td>\n",
       "      <td>Q_1-3</td>\n",
       "      <td>E_1-3</td>\n",
       "    </tr>\n",
       "    <tr>\n",
       "      <td>12523</td>\n",
       "      <td>1</td>\n",
       "      <td>420220933163461</td>\n",
       "      <td>2019-01-30</td>\n",
       "      <td>13</td>\n",
       "      <td>6411401033919</td>\n",
       "      <td>1.000</td>\n",
       "      <td>18-24</td>\n",
       "      <td>6711</td>\n",
       "      <td>Q_1-3</td>\n",
       "      <td>E_1-3</td>\n",
       "    </tr>\n",
       "    <tr>\n",
       "      <td>12667</td>\n",
       "      <td>1</td>\n",
       "      <td>420220933163461</td>\n",
       "      <td>2019-01-30</td>\n",
       "      <td>13</td>\n",
       "      <td>6408641827200</td>\n",
       "      <td>3.000</td>\n",
       "      <td>18-24</td>\n",
       "      <td>6711</td>\n",
       "      <td>Q_1-3</td>\n",
       "      <td>E_1-3</td>\n",
       "    </tr>\n",
       "    <tr>\n",
       "      <td>12811</td>\n",
       "      <td>1</td>\n",
       "      <td>420220933163461</td>\n",
       "      <td>2019-01-30</td>\n",
       "      <td>13</td>\n",
       "      <td>6415600501811</td>\n",
       "      <td>1.000</td>\n",
       "      <td>18-24</td>\n",
       "      <td>6711</td>\n",
       "      <td>Q_1-3</td>\n",
       "      <td>E_1-3</td>\n",
       "    </tr>\n",
       "    <tr>\n",
       "      <td>12955</td>\n",
       "      <td>1</td>\n",
       "      <td>420220933163461</td>\n",
       "      <td>2019-01-30</td>\n",
       "      <td>13</td>\n",
       "      <td>6410405154170</td>\n",
       "      <td>1.000</td>\n",
       "      <td>18-24</td>\n",
       "      <td>6711</td>\n",
       "      <td>Q_1-3</td>\n",
       "      <td>E_1-3</td>\n",
       "    </tr>\n",
       "    <tr>\n",
       "      <td>13099</td>\n",
       "      <td>1</td>\n",
       "      <td>420220933163461</td>\n",
       "      <td>2019-01-30</td>\n",
       "      <td>13</td>\n",
       "      <td>7310240651287</td>\n",
       "      <td>1.000</td>\n",
       "      <td>18-24</td>\n",
       "      <td>6711</td>\n",
       "      <td>Q_1-3</td>\n",
       "      <td>E_1-3</td>\n",
       "    </tr>\n",
       "    <tr>\n",
       "      <td>13243</td>\n",
       "      <td>1</td>\n",
       "      <td>420220933163461</td>\n",
       "      <td>2019-01-30</td>\n",
       "      <td>13</td>\n",
       "      <td>7310791180663</td>\n",
       "      <td>2.000</td>\n",
       "      <td>18-24</td>\n",
       "      <td>6711</td>\n",
       "      <td>Q_1-3</td>\n",
       "      <td>E_1-3</td>\n",
       "    </tr>\n",
       "    <tr>\n",
       "      <td>13387</td>\n",
       "      <td>1</td>\n",
       "      <td>420220933163461</td>\n",
       "      <td>2019-01-30</td>\n",
       "      <td>13</td>\n",
       "      <td>6430041692775</td>\n",
       "      <td>2.000</td>\n",
       "      <td>18-24</td>\n",
       "      <td>6711</td>\n",
       "      <td>Q_1-3</td>\n",
       "      <td>E_1-3</td>\n",
       "    </tr>\n",
       "    <tr>\n",
       "      <td>13531</td>\n",
       "      <td>1</td>\n",
       "      <td>420220933163461</td>\n",
       "      <td>2019-01-30</td>\n",
       "      <td>13</td>\n",
       "      <td>6408430042395</td>\n",
       "      <td>1.000</td>\n",
       "      <td>18-24</td>\n",
       "      <td>6711</td>\n",
       "      <td>Q_1-3</td>\n",
       "      <td>E_1-3</td>\n",
       "    </tr>\n",
       "    <tr>\n",
       "      <td>13675</td>\n",
       "      <td>1</td>\n",
       "      <td>420220933163461</td>\n",
       "      <td>2019-01-30</td>\n",
       "      <td>13</td>\n",
       "      <td>8712561068208</td>\n",
       "      <td>1.000</td>\n",
       "      <td>18-24</td>\n",
       "      <td>6711</td>\n",
       "      <td>Q_1-3</td>\n",
       "      <td>E_1-3</td>\n",
       "    </tr>\n",
       "    <tr>\n",
       "      <td>13819</td>\n",
       "      <td>1</td>\n",
       "      <td>420220933163461</td>\n",
       "      <td>2019-01-30</td>\n",
       "      <td>13</td>\n",
       "      <td>6410405082657</td>\n",
       "      <td>2.000</td>\n",
       "      <td>18-24</td>\n",
       "      <td>6711</td>\n",
       "      <td>Q_1-3</td>\n",
       "      <td>E_1-3</td>\n",
       "    </tr>\n",
       "    <tr>\n",
       "      <td>13963</td>\n",
       "      <td>1</td>\n",
       "      <td>420220933163461</td>\n",
       "      <td>2019-01-30</td>\n",
       "      <td>13</td>\n",
       "      <td>6409100050306</td>\n",
       "      <td>2.000</td>\n",
       "      <td>18-24</td>\n",
       "      <td>6711</td>\n",
       "      <td>Q_1-3</td>\n",
       "      <td>E_1-3</td>\n",
       "    </tr>\n",
       "    <tr>\n",
       "      <td>14107</td>\n",
       "      <td>1</td>\n",
       "      <td>420220933163461</td>\n",
       "      <td>2019-01-30</td>\n",
       "      <td>13</td>\n",
       "      <td>6410400048535</td>\n",
       "      <td>1.000</td>\n",
       "      <td>18-24</td>\n",
       "      <td>6711</td>\n",
       "      <td>Q_1-3</td>\n",
       "      <td>E_1-3</td>\n",
       "    </tr>\n",
       "    <tr>\n",
       "      <td>14251</td>\n",
       "      <td>1</td>\n",
       "      <td>420220933163461</td>\n",
       "      <td>2019-01-30</td>\n",
       "      <td>13</td>\n",
       "      <td>6415600502177</td>\n",
       "      <td>2.000</td>\n",
       "      <td>18-24</td>\n",
       "      <td>6711</td>\n",
       "      <td>Q_1-3</td>\n",
       "      <td>E_1-3</td>\n",
       "    </tr>\n",
       "    <tr>\n",
       "      <td>14395</td>\n",
       "      <td>1</td>\n",
       "      <td>420220933163461</td>\n",
       "      <td>2019-01-30</td>\n",
       "      <td>13</td>\n",
       "      <td>2000798000006</td>\n",
       "      <td>1.654</td>\n",
       "      <td>18-24</td>\n",
       "      <td>6711</td>\n",
       "      <td>Q_1-3</td>\n",
       "      <td>E_1-3</td>\n",
       "    </tr>\n",
       "    <tr>\n",
       "      <td>14539</td>\n",
       "      <td>1</td>\n",
       "      <td>420220933163461</td>\n",
       "      <td>2019-01-30</td>\n",
       "      <td>13</td>\n",
       "      <td>6413200330404</td>\n",
       "      <td>2.000</td>\n",
       "      <td>18-24</td>\n",
       "      <td>6711</td>\n",
       "      <td>Q_1-3</td>\n",
       "      <td>E_1-3</td>\n",
       "    </tr>\n",
       "    <tr>\n",
       "      <td>14683</td>\n",
       "      <td>1</td>\n",
       "      <td>420220933163461</td>\n",
       "      <td>2019-01-30</td>\n",
       "      <td>13</td>\n",
       "      <td>7311070373127</td>\n",
       "      <td>1.000</td>\n",
       "      <td>18-24</td>\n",
       "      <td>6711</td>\n",
       "      <td>Q_1-3</td>\n",
       "      <td>E_1-3</td>\n",
       "    </tr>\n",
       "    <tr>\n",
       "      <td>14827</td>\n",
       "      <td>1</td>\n",
       "      <td>420220933163461</td>\n",
       "      <td>2019-01-30</td>\n",
       "      <td>13</td>\n",
       "      <td>2000604700007</td>\n",
       "      <td>0.327</td>\n",
       "      <td>18-24</td>\n",
       "      <td>6711</td>\n",
       "      <td>Q_1-3</td>\n",
       "      <td>E_1-3</td>\n",
       "    </tr>\n",
       "    <tr>\n",
       "      <td>14971</td>\n",
       "      <td>1</td>\n",
       "      <td>420220933163461</td>\n",
       "      <td>2019-01-30</td>\n",
       "      <td>13</td>\n",
       "      <td>66264700735</td>\n",
       "      <td>1.000</td>\n",
       "      <td>18-24</td>\n",
       "      <td>6711</td>\n",
       "      <td>Q_1-3</td>\n",
       "      <td>E_1-3</td>\n",
       "    </tr>\n",
       "    <tr>\n",
       "      <td>15115</td>\n",
       "      <td>1</td>\n",
       "      <td>420220933163461</td>\n",
       "      <td>2019-01-30</td>\n",
       "      <td>13</td>\n",
       "      <td>6430104960780</td>\n",
       "      <td>1.000</td>\n",
       "      <td>18-24</td>\n",
       "      <td>6711</td>\n",
       "      <td>Q_1-3</td>\n",
       "      <td>E_1-3</td>\n",
       "    </tr>\n",
       "    <tr>\n",
       "      <td>15259</td>\n",
       "      <td>1</td>\n",
       "      <td>420220933163461</td>\n",
       "      <td>2019-01-30</td>\n",
       "      <td>13</td>\n",
       "      <td>6437005031298</td>\n",
       "      <td>1.000</td>\n",
       "      <td>18-24</td>\n",
       "      <td>6711</td>\n",
       "      <td>Q_1-3</td>\n",
       "      <td>E_1-3</td>\n",
       "    </tr>\n",
       "    <tr>\n",
       "      <td>15403</td>\n",
       "      <td>1</td>\n",
       "      <td>420220933163461</td>\n",
       "      <td>2019-01-30</td>\n",
       "      <td>13</td>\n",
       "      <td>6420256010709</td>\n",
       "      <td>1.000</td>\n",
       "      <td>18-24</td>\n",
       "      <td>6711</td>\n",
       "      <td>Q_1-3</td>\n",
       "      <td>E_1-3</td>\n",
       "    </tr>\n",
       "    <tr>\n",
       "      <td>15547</td>\n",
       "      <td>1</td>\n",
       "      <td>420220933163461</td>\n",
       "      <td>2019-01-30</td>\n",
       "      <td>13</td>\n",
       "      <td>6410405174475</td>\n",
       "      <td>1.000</td>\n",
       "      <td>18-24</td>\n",
       "      <td>6711</td>\n",
       "      <td>Q_1-3</td>\n",
       "      <td>E_1-3</td>\n",
       "    </tr>\n",
       "    <tr>\n",
       "      <td>15691</td>\n",
       "      <td>1</td>\n",
       "      <td>420220933163461</td>\n",
       "      <td>2019-01-30</td>\n",
       "      <td>13</td>\n",
       "      <td>6411401084768</td>\n",
       "      <td>2.000</td>\n",
       "      <td>18-24</td>\n",
       "      <td>6711</td>\n",
       "      <td>Q_1-3</td>\n",
       "      <td>E_1-3</td>\n",
       "    </tr>\n",
       "    <tr>\n",
       "      <td>15835</td>\n",
       "      <td>1</td>\n",
       "      <td>420220933163461</td>\n",
       "      <td>2019-01-30</td>\n",
       "      <td>13</td>\n",
       "      <td>7310700673262</td>\n",
       "      <td>1.000</td>\n",
       "      <td>18-24</td>\n",
       "      <td>6711</td>\n",
       "      <td>Q_1-3</td>\n",
       "      <td>E_1-3</td>\n",
       "    </tr>\n",
       "    <tr>\n",
       "      <td>15979</td>\n",
       "      <td>1</td>\n",
       "      <td>420220933163461</td>\n",
       "      <td>2019-01-30</td>\n",
       "      <td>13</td>\n",
       "      <td>6411300000487</td>\n",
       "      <td>2.000</td>\n",
       "      <td>18-24</td>\n",
       "      <td>6711</td>\n",
       "      <td>Q_1-3</td>\n",
       "      <td>E_1-3</td>\n",
       "    </tr>\n",
       "    <tr>\n",
       "      <td>16123</td>\n",
       "      <td>1</td>\n",
       "      <td>420220933163461</td>\n",
       "      <td>2019-01-30</td>\n",
       "      <td>13</td>\n",
       "      <td>6415130041764</td>\n",
       "      <td>2.000</td>\n",
       "      <td>18-24</td>\n",
       "      <td>6711</td>\n",
       "      <td>Q_1-3</td>\n",
       "      <td>E_1-3</td>\n",
       "    </tr>\n",
       "    <tr>\n",
       "      <td>16267</td>\n",
       "      <td>1</td>\n",
       "      <td>420220933163461</td>\n",
       "      <td>2019-01-30</td>\n",
       "      <td>13</td>\n",
       "      <td>6411401015090</td>\n",
       "      <td>2.000</td>\n",
       "      <td>18-24</td>\n",
       "      <td>6711</td>\n",
       "      <td>Q_1-3</td>\n",
       "      <td>E_1-3</td>\n",
       "    </tr>\n",
       "  </tbody>\n",
       "</table>\n",
       "</div>"
      ],
      "text/plain": [
       "       AreaId          Receipt TransactionDate  BeginHour            EAN  \\\n",
       "12091       1  420220933163461      2019-01-30         13  6413600017189   \n",
       "12235       1  420220933163461      2019-01-30         13  5701259100187   \n",
       "12379       1  420220933163461      2019-01-30         13  6411600081162   \n",
       "12523       1  420220933163461      2019-01-30         13  6411401033919   \n",
       "12667       1  420220933163461      2019-01-30         13  6408641827200   \n",
       "12811       1  420220933163461      2019-01-30         13  6415600501811   \n",
       "12955       1  420220933163461      2019-01-30         13  6410405154170   \n",
       "13099       1  420220933163461      2019-01-30         13  7310240651287   \n",
       "13243       1  420220933163461      2019-01-30         13  7310791180663   \n",
       "13387       1  420220933163461      2019-01-30         13  6430041692775   \n",
       "13531       1  420220933163461      2019-01-30         13  6408430042395   \n",
       "13675       1  420220933163461      2019-01-30         13  8712561068208   \n",
       "13819       1  420220933163461      2019-01-30         13  6410405082657   \n",
       "13963       1  420220933163461      2019-01-30         13  6409100050306   \n",
       "14107       1  420220933163461      2019-01-30         13  6410400048535   \n",
       "14251       1  420220933163461      2019-01-30         13  6415600502177   \n",
       "14395       1  420220933163461      2019-01-30         13  2000798000006   \n",
       "14539       1  420220933163461      2019-01-30         13  6413200330404   \n",
       "14683       1  420220933163461      2019-01-30         13  7311070373127   \n",
       "14827       1  420220933163461      2019-01-30         13  2000604700007   \n",
       "14971       1  420220933163461      2019-01-30         13    66264700735   \n",
       "15115       1  420220933163461      2019-01-30         13  6430104960780   \n",
       "15259       1  420220933163461      2019-01-30         13  6437005031298   \n",
       "15403       1  420220933163461      2019-01-30         13  6420256010709   \n",
       "15547       1  420220933163461      2019-01-30         13  6410405174475   \n",
       "15691       1  420220933163461      2019-01-30         13  6411401084768   \n",
       "15835       1  420220933163461      2019-01-30         13  7310700673262   \n",
       "15979       1  420220933163461      2019-01-30         13  6411300000487   \n",
       "16123       1  420220933163461      2019-01-30         13  6415130041764   \n",
       "16267       1  420220933163461      2019-01-30         13  6411401015090   \n",
       "\n",
       "       Quantity PersonAgeGrp  KCustomer QualClass EasyClass  \n",
       "12091     1.000        18-24       6711     Q_1-3     E_1-3  \n",
       "12235     2.000        18-24       6711     Q_1-3     E_1-3  \n",
       "12379     5.000        18-24       6711     Q_1-3     E_1-3  \n",
       "12523     1.000        18-24       6711     Q_1-3     E_1-3  \n",
       "12667     3.000        18-24       6711     Q_1-3     E_1-3  \n",
       "12811     1.000        18-24       6711     Q_1-3     E_1-3  \n",
       "12955     1.000        18-24       6711     Q_1-3     E_1-3  \n",
       "13099     1.000        18-24       6711     Q_1-3     E_1-3  \n",
       "13243     2.000        18-24       6711     Q_1-3     E_1-3  \n",
       "13387     2.000        18-24       6711     Q_1-3     E_1-3  \n",
       "13531     1.000        18-24       6711     Q_1-3     E_1-3  \n",
       "13675     1.000        18-24       6711     Q_1-3     E_1-3  \n",
       "13819     2.000        18-24       6711     Q_1-3     E_1-3  \n",
       "13963     2.000        18-24       6711     Q_1-3     E_1-3  \n",
       "14107     1.000        18-24       6711     Q_1-3     E_1-3  \n",
       "14251     2.000        18-24       6711     Q_1-3     E_1-3  \n",
       "14395     1.654        18-24       6711     Q_1-3     E_1-3  \n",
       "14539     2.000        18-24       6711     Q_1-3     E_1-3  \n",
       "14683     1.000        18-24       6711     Q_1-3     E_1-3  \n",
       "14827     0.327        18-24       6711     Q_1-3     E_1-3  \n",
       "14971     1.000        18-24       6711     Q_1-3     E_1-3  \n",
       "15115     1.000        18-24       6711     Q_1-3     E_1-3  \n",
       "15259     1.000        18-24       6711     Q_1-3     E_1-3  \n",
       "15403     1.000        18-24       6711     Q_1-3     E_1-3  \n",
       "15547     1.000        18-24       6711     Q_1-3     E_1-3  \n",
       "15691     2.000        18-24       6711     Q_1-3     E_1-3  \n",
       "15835     1.000        18-24       6711     Q_1-3     E_1-3  \n",
       "15979     2.000        18-24       6711     Q_1-3     E_1-3  \n",
       "16123     2.000        18-24       6711     Q_1-3     E_1-3  \n",
       "16267     2.000        18-24       6711     Q_1-3     E_1-3  "
      ]
     },
     "execution_count": 13,
     "metadata": {},
     "output_type": "execute_result"
    }
   ],
   "source": [
    "data.head(30)"
   ]
  },
  {
   "cell_type": "code",
   "execution_count": null,
   "metadata": {},
   "outputs": [],
   "source": []
  }
 ],
 "metadata": {
  "kernelspec": {
   "display_name": "Python 3",
   "language": "python",
   "name": "python3"
  },
  "language_info": {
   "codemirror_mode": {
    "name": "ipython",
    "version": 3
   },
   "file_extension": ".py",
   "mimetype": "text/x-python",
   "name": "python",
   "nbconvert_exporter": "python",
   "pygments_lexer": "ipython3",
   "version": "3.7.4"
  }
 },
 "nbformat": 4,
 "nbformat_minor": 2
}
