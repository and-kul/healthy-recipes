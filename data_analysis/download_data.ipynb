{
 "cells": [
  {
   "cell_type": "code",
   "execution_count": 24,
   "metadata": {},
   "outputs": [],
   "source": [
    "import numpy as np\n",
    "import pandas as pd\n",
    "from tqdm.auto import tqdm\n",
    "import requests"
   ]
  },
  {
   "cell_type": "code",
   "execution_count": 2,
   "metadata": {},
   "outputs": [],
   "source": [
    "data = pd.read_csv('./Junction-Kesko-Receipt-Data/Junction_data.csv', sep=';',\n",
    "                  parse_dates=['TransactionDate'], dtype={'Quantity': 'float64'}, decimal=',')"
   ]
  },
  {
   "cell_type": "code",
   "execution_count": 3,
   "metadata": {},
   "outputs": [
    {
     "data": {
      "text/plain": [
       "(52941708, 10)"
      ]
     },
     "execution_count": 3,
     "metadata": {},
     "output_type": "execute_result"
    }
   ],
   "source": [
    "data.shape"
   ]
  },
  {
   "cell_type": "code",
   "execution_count": 4,
   "metadata": {
    "scrolled": true
   },
   "outputs": [
    {
     "data": {
      "text/html": [
       "<div>\n",
       "<style scoped>\n",
       "    .dataframe tbody tr th:only-of-type {\n",
       "        vertical-align: middle;\n",
       "    }\n",
       "\n",
       "    .dataframe tbody tr th {\n",
       "        vertical-align: top;\n",
       "    }\n",
       "\n",
       "    .dataframe thead th {\n",
       "        text-align: right;\n",
       "    }\n",
       "</style>\n",
       "<table border=\"1\" class=\"dataframe\">\n",
       "  <thead>\n",
       "    <tr style=\"text-align: right;\">\n",
       "      <th></th>\n",
       "      <th>AreaId</th>\n",
       "      <th>Receipt</th>\n",
       "      <th>TransactionDate</th>\n",
       "      <th>BeginHour</th>\n",
       "      <th>EAN</th>\n",
       "      <th>Quantity</th>\n",
       "      <th>PersonAgeGrp</th>\n",
       "      <th>KCustomer</th>\n",
       "      <th>QualClass</th>\n",
       "      <th>EasyClass</th>\n",
       "    </tr>\n",
       "  </thead>\n",
       "  <tbody>\n",
       "    <tr>\n",
       "      <td>0</td>\n",
       "      <td>1</td>\n",
       "      <td>356601823178935</td>\n",
       "      <td>2017-11-07</td>\n",
       "      <td>17</td>\n",
       "      <td>5410103915654</td>\n",
       "      <td>1.0</td>\n",
       "      <td>55-64</td>\n",
       "      <td>6715</td>\n",
       "      <td>Q_1-3</td>\n",
       "      <td>E_4-7</td>\n",
       "    </tr>\n",
       "    <tr>\n",
       "      <td>1</td>\n",
       "      <td>1</td>\n",
       "      <td>356341113181337</td>\n",
       "      <td>2017-11-05</td>\n",
       "      <td>12</td>\n",
       "      <td>6413466126704</td>\n",
       "      <td>1.0</td>\n",
       "      <td>35-44</td>\n",
       "      <td>6712</td>\n",
       "      <td>Q_1-3</td>\n",
       "      <td>E_4-7</td>\n",
       "    </tr>\n",
       "    <tr>\n",
       "      <td>2</td>\n",
       "      <td>1</td>\n",
       "      <td>356629240622521</td>\n",
       "      <td>2017-11-07</td>\n",
       "      <td>18</td>\n",
       "      <td>24000017677</td>\n",
       "      <td>1.0</td>\n",
       "      <td>45-54</td>\n",
       "      <td>6715</td>\n",
       "      <td>Q_1-3</td>\n",
       "      <td>E_4-7</td>\n",
       "    </tr>\n",
       "    <tr>\n",
       "      <td>3</td>\n",
       "      <td>1</td>\n",
       "      <td>356269217607293</td>\n",
       "      <td>2017-11-04</td>\n",
       "      <td>13</td>\n",
       "      <td>6412000033188</td>\n",
       "      <td>2.0</td>\n",
       "      <td>55-64</td>\n",
       "      <td>6712</td>\n",
       "      <td>Q_4-7</td>\n",
       "      <td>E_4-7</td>\n",
       "    </tr>\n",
       "    <tr>\n",
       "      <td>4</td>\n",
       "      <td>1</td>\n",
       "      <td>356215448049286</td>\n",
       "      <td>2017-11-04</td>\n",
       "      <td>11</td>\n",
       "      <td>2000940900000</td>\n",
       "      <td>1.0</td>\n",
       "      <td>45-54</td>\n",
       "      <td>6713</td>\n",
       "      <td>Q_1-3</td>\n",
       "      <td>E_8-10</td>\n",
       "    </tr>\n",
       "  </tbody>\n",
       "</table>\n",
       "</div>"
      ],
      "text/plain": [
       "   AreaId          Receipt TransactionDate  BeginHour            EAN  \\\n",
       "0       1  356601823178935      2017-11-07         17  5410103915654   \n",
       "1       1  356341113181337      2017-11-05         12  6413466126704   \n",
       "2       1  356629240622521      2017-11-07         18    24000017677   \n",
       "3       1  356269217607293      2017-11-04         13  6412000033188   \n",
       "4       1  356215448049286      2017-11-04         11  2000940900000   \n",
       "\n",
       "   Quantity PersonAgeGrp  KCustomer QualClass EasyClass  \n",
       "0       1.0        55-64       6715     Q_1-3     E_4-7  \n",
       "1       1.0        35-44       6712     Q_1-3     E_4-7  \n",
       "2       1.0        45-54       6715     Q_1-3     E_4-7  \n",
       "3       2.0        55-64       6712     Q_4-7     E_4-7  \n",
       "4       1.0        45-54       6713     Q_1-3    E_8-10  "
      ]
     },
     "execution_count": 4,
     "metadata": {},
     "output_type": "execute_result"
    }
   ],
   "source": [
    "data.head()"
   ]
  },
  {
   "cell_type": "code",
   "execution_count": 5,
   "metadata": {
    "scrolled": true
   },
   "outputs": [
    {
     "data": {
      "text/plain": [
       "AreaId                      int64\n",
       "Receipt                     int64\n",
       "TransactionDate    datetime64[ns]\n",
       "BeginHour                   int64\n",
       "EAN                         int64\n",
       "Quantity                  float64\n",
       "PersonAgeGrp               object\n",
       "KCustomer                   int64\n",
       "QualClass                  object\n",
       "EasyClass                  object\n",
       "dtype: object"
      ]
     },
     "execution_count": 5,
     "metadata": {},
     "output_type": "execute_result"
    }
   ],
   "source": [
    "data.dtypes"
   ]
  },
  {
   "cell_type": "code",
   "execution_count": 6,
   "metadata": {},
   "outputs": [],
   "source": [
    "data_young = data[(data['PersonAgeGrp'] == '18-24') & \\\n",
    "                  (data['QualClass'] == 'Q_1-3') & \\\n",
    "                  (data['EasyClass'] == 'E_8-10') & \\\n",
    "                  (data['AreaId'] == 2)]"
   ]
  },
  {
   "cell_type": "code",
   "execution_count": 7,
   "metadata": {},
   "outputs": [],
   "source": [
    "data_old = data[(data['PersonAgeGrp'] == '25-34') & \\\n",
    "                (data['QualClass'] == 'Q_8-10') & \\\n",
    "                (data['EasyClass'] == 'E_1-3') & \\\n",
    "                (data['AreaId'] == 2)]"
   ]
  },
  {
   "cell_type": "code",
   "execution_count": 8,
   "metadata": {},
   "outputs": [
    {
     "data": {
      "text/plain": [
       "(151085, 10)"
      ]
     },
     "execution_count": 8,
     "metadata": {},
     "output_type": "execute_result"
    }
   ],
   "source": [
    "data_young.shape"
   ]
  },
  {
   "cell_type": "code",
   "execution_count": 9,
   "metadata": {
    "scrolled": true
   },
   "outputs": [
    {
     "data": {
      "text/plain": [
       "27679"
      ]
     },
     "execution_count": 9,
     "metadata": {},
     "output_type": "execute_result"
    }
   ],
   "source": [
    "data_young['Receipt'].nunique()"
   ]
  },
  {
   "cell_type": "code",
   "execution_count": 10,
   "metadata": {},
   "outputs": [
    {
     "data": {
      "text/plain": [
       "AreaId\n",
       "1    1297364\n",
       "2    2106076\n",
       "3    1329669\n",
       "4    1418564\n",
       "Name: Receipt, dtype: int64"
      ]
     },
     "execution_count": 10,
     "metadata": {},
     "output_type": "execute_result"
    }
   ],
   "source": [
    "data.groupby(['AreaId'])['Receipt'].nunique()"
   ]
  },
  {
   "cell_type": "code",
   "execution_count": 11,
   "metadata": {},
   "outputs": [
    {
     "data": {
      "text/plain": [
       "(156153, 10)"
      ]
     },
     "execution_count": 11,
     "metadata": {},
     "output_type": "execute_result"
    }
   ],
   "source": [
    "data_old.shape"
   ]
  },
  {
   "cell_type": "code",
   "execution_count": 12,
   "metadata": {},
   "outputs": [
    {
     "data": {
      "text/plain": [
       "16828"
      ]
     },
     "execution_count": 12,
     "metadata": {},
     "output_type": "execute_result"
    }
   ],
   "source": [
    "data_old['Receipt'].nunique()"
   ]
  },
  {
   "cell_type": "code",
   "execution_count": 13,
   "metadata": {},
   "outputs": [
    {
     "data": {
      "text/plain": [
       "KCustomer\n",
       "6711    23590\n",
       "6712     1174\n",
       "6714     2915\n",
       "Name: Receipt, dtype: int64"
      ]
     },
     "execution_count": 13,
     "metadata": {},
     "output_type": "execute_result"
    }
   ],
   "source": [
    "data_young.groupby(['KCustomer'])['Receipt'].nunique()"
   ]
  },
  {
   "cell_type": "code",
   "execution_count": 14,
   "metadata": {},
   "outputs": [
    {
     "data": {
      "text/plain": [
       "KCustomer\n",
       "6711    7558\n",
       "6712    6251\n",
       "6713    2501\n",
       "6714     518\n",
       "Name: Receipt, dtype: int64"
      ]
     },
     "execution_count": 14,
     "metadata": {},
     "output_type": "execute_result"
    }
   ],
   "source": [
    "data_old.groupby(['KCustomer'])['Receipt'].nunique()"
   ]
  },
  {
   "cell_type": "code",
   "execution_count": 15,
   "metadata": {},
   "outputs": [
    {
     "data": {
      "text/plain": [
       "KCustomer\n",
       "6711    14985\n",
       "6712     2256\n",
       "6714     3102\n",
       "Name: EAN, dtype: int64"
      ]
     },
     "execution_count": 15,
     "metadata": {},
     "output_type": "execute_result"
    }
   ],
   "source": [
    "data_young.groupby(['KCustomer'])['EAN'].nunique()"
   ]
  },
  {
   "cell_type": "code",
   "execution_count": 16,
   "metadata": {},
   "outputs": [],
   "source": [
    "data_young_eans = set(data_young['EAN'])\n",
    "data_old_eans = set(data_old['EAN'])"
   ]
  },
  {
   "cell_type": "code",
   "execution_count": 17,
   "metadata": {},
   "outputs": [
    {
     "data": {
      "text/plain": [
       "26010"
      ]
     },
     "execution_count": 17,
     "metadata": {},
     "output_type": "execute_result"
    }
   ],
   "source": [
    "len(data_young_eans | data_old_eans)"
   ]
  },
  {
   "cell_type": "code",
   "execution_count": 18,
   "metadata": {},
   "outputs": [],
   "source": [
    "eans = list(data_young_eans | data_old_eans)"
   ]
  },
  {
   "cell_type": "code",
   "execution_count": 19,
   "metadata": {},
   "outputs": [],
   "source": [
    "eans_selected = [ean for ean in eans if not str(ean).startswith('2')]"
   ]
  },
  {
   "cell_type": "code",
   "execution_count": 20,
   "metadata": {},
   "outputs": [],
   "source": [
    "ean_value_counts = data['EAN'].value_counts()"
   ]
  },
  {
   "cell_type": "code",
   "execution_count": 30,
   "metadata": {},
   "outputs": [
    {
     "data": {
      "text/plain": [
       "23971"
      ]
     },
     "execution_count": 30,
     "metadata": {},
     "output_type": "execute_result"
    }
   ],
   "source": [
    "len(eans_selected)"
   ]
  },
  {
   "cell_type": "code",
   "execution_count": 27,
   "metadata": {},
   "outputs": [],
   "source": [
    "popular_eans = ean_value_counts.iloc[:15000].index\n",
    "popular_eans = [ean for ean in popular_eans if not str(ean).startswith('2')]"
   ]
  },
  {
   "cell_type": "code",
   "execution_count": 26,
   "metadata": {},
   "outputs": [
    {
     "data": {
      "text/plain": [
       "5512"
      ]
     },
     "execution_count": 26,
     "metadata": {},
     "output_type": "execute_result"
    }
   ],
   "source": [
    "len(popular_eans)"
   ]
  },
  {
   "cell_type": "code",
   "execution_count": 31,
   "metadata": {},
   "outputs": [
    {
     "data": {
      "application/vnd.jupyter.widget-view+json": {
       "model_id": "0912815deab94f5b819cfafa14b66cab",
       "version_major": 2,
       "version_minor": 0
      },
      "text/plain": [
       "HBox(children=(IntProgress(value=0, max=23971), HTML(value='')))"
      ]
     },
     "metadata": {},
     "output_type": "display_data"
    },
    {
     "name": "stdout",
     "output_type": "stream",
     "text": [
      "\n"
     ]
    }
   ],
   "source": [
    "ean_to_dict = {}\n",
    "\n",
    "for ean in tqdm(eans_selected):\n",
    "    response = requests.post(url='https://kesko.azure-api.net/v1/search/products',\n",
    "                  headers={'Ocp-Apim-Subscription-Key': '50d5b4ef0f664d94b115f23c6da5b3e7',\n",
    "                           'Content-Type': 'application/json'},\n",
    "                  json={\"filters\": {\n",
    "                            \"ean\": str(ean)\n",
    "                        },\n",
    "                        \"view\": {\n",
    "                            \"offset\": 0,\n",
    "                            \"limit\": 10,\n",
    "                            \"showFacets\": {\n",
    "                                \"facets\": [\n",
    "                                    \"string\"\n",
    "                                ],\n",
    "                                \"limit\": 250\n",
    "                            },\n",
    "                            \"showAvailability\": {\n",
    "                                \"storeAvailability\": [\n",
    "                                    \"A208\",\n",
    "                                    \"A210\",\n",
    "                                    \"A212\",\n",
    "                                    \"A214\",\n",
    "                                    \"A216\",\n",
    "                                    \"A218\",\n",
    "                                    \"A300\",\n",
    "                                    \"A301\",\n",
    "                                    \"A302\",\n",
    "                                    \"A303\",\n",
    "                                    \"A304\",\n",
    "                                    \"A305\",\n",
    "                                    \"A306\",\n",
    "                                    \"A308\",\n",
    "                                    \"A310\",\n",
    "                                    \"A205\",\n",
    "                                    \"A311\",\n",
    "                                    \"A313\",\n",
    "                                    \"A314\"\n",
    "                                ],\n",
    "                                \"webstoreAvailability\": []\n",
    "                            }\n",
    "                        }\n",
    "                       }\n",
    "                 )\n",
    "    ean_to_dict[str(ean)] = response.json()"
   ]
  },
  {
   "cell_type": "code",
   "execution_count": 32,
   "metadata": {},
   "outputs": [
    {
     "data": {
      "text/plain": [
       "23971"
      ]
     },
     "execution_count": 32,
     "metadata": {},
     "output_type": "execute_result"
    }
   ],
   "source": [
    "len(ean_to_dict)"
   ]
  },
  {
   "cell_type": "code",
   "execution_count": 52,
   "metadata": {},
   "outputs": [],
   "source": [
    "products_df = pd.DataFrame([{'ean': ean,\n",
    "  'isAlcohol': json['results'][0]['isAlcohol'],\n",
    "  'pictureUrl': json['results'][0]['pictureUrls'][0]['original'] if json['results'][0]['pictureUrls'] else None,\n",
    "  'isConsumerGood': json['results'][0]['isConsumerGood'] if 'isConsumerGood' in json['results'][0] else None,\n",
    "  'marketingName_finnish': json['results'][0]['marketingName']['finnish'] if 'finnish' in json['results'][0]['marketingName'] else None,\n",
    "  'marketingName_english': json['results'][0]['marketingName']['english'] if 'english' in json['results'][0]['marketingName'] else None,\n",
    "  'ingredients_finnish': json['results'][0]['attributes']['MATERIAL_U']['value']['value'] if 'MATERIAL_U' in json['results'][0]['attributes'] else None,\n",
    "  'ingredients_english': json['results'][0]['attributes']['MATERIAL_E']['value']['value'] if 'MATERIAL_E' in json['results'][0]['attributes'] else None,\n",
    "  'net_weight': json['results'][0]['measurements']['netWeight'] if 'measurements' in json['results'][0] else None,\n",
    "  \n",
    "                             \n",
    "  'proteins': json['results'][0]['attributes']['PROTEG']['value']['value'] if 'PROTEG' in json['results'][0]['attributes'] else None,\n",
    "  'fats': json['results'][0]['attributes']['RASVAA']['value']['value'] if 'RASVAA' in json['results'][0]['attributes'] else None,\n",
    "  'carbohydrates': json['results'][0]['attributes']['HIHYDR']['value']['value'] if 'HIHYDR' in json['results'][0]['attributes'] else None,\n",
    "  \n",
    "  'kcal': json['results'][0]['attributes']['ENERKC']['value']['value'] if 'ENERKC' in json['results'][0]['attributes'] else None,\n",
    "  'fats_saturated': json['results'][0]['attributes']['TYYDRH']['value']['value'] if 'TYYDRH' in json['results'][0]['attributes'] else None,\n",
    "  'sugar': json['results'][0]['attributes']['SOKERI']['value']['value'] if 'SOKERI' in json['results'][0]['attributes'] else None,\n",
    "                             \n",
    "} for ean, json in ean_to_dict.items() if 'totalHits' in json and json['totalHits'] == 1])\n"
   ]
  },
  {
   "cell_type": "code",
   "execution_count": 53,
   "metadata": {},
   "outputs": [
    {
     "data": {
      "text/plain": [
       "ean                      1.000000\n",
       "isAlcohol                1.000000\n",
       "pictureUrl               0.958707\n",
       "isConsumerGood           0.994772\n",
       "marketingName_finnish    0.996319\n",
       "marketingName_english    0.575011\n",
       "ingredients_finnish      0.846137\n",
       "ingredients_english      0.257736\n",
       "net_weight               0.999840\n",
       "proteins                 0.696596\n",
       "fats                     0.693502\n",
       "carbohydrates            0.694889\n",
       "kcal                     0.686780\n",
       "fats_saturated           0.657810\n",
       "sugar                    0.668961\n",
       "dtype: float64"
      ]
     },
     "execution_count": 53,
     "metadata": {},
     "output_type": "execute_result"
    }
   ],
   "source": [
    "products_df.notna().mean()"
   ]
  },
  {
   "cell_type": "code",
   "execution_count": 57,
   "metadata": {},
   "outputs": [],
   "source": [
    "res = products_df['ingredients_finnish'].str.upper().str.extractall(r\"(?P<e_number>\\bE\\d{3,4}\\b)\")\n",
    "res['count'] = 1\n",
    "res.set_index('e_number', append=True, drop=True, inplace=True)\n",
    "\n",
    "res = res.unstack('e_number', fill_value=0)\n",
    "res = res.groupby(level=0, as_index=True, group_keys=False).sum()\n",
    "res = res.droplevel(0, axis=1)\n",
    "res = res.sort_index(axis=1)"
   ]
  },
  {
   "cell_type": "code",
   "execution_count": 58,
   "metadata": {},
   "outputs": [
    {
     "data": {
      "text/plain": [
       "13577"
      ]
     },
     "execution_count": 58,
     "metadata": {},
     "output_type": "execute_result"
    }
   ],
   "source": [
    "res.sum().sum()"
   ]
  },
  {
   "cell_type": "code",
   "execution_count": 59,
   "metadata": {},
   "outputs": [
    {
     "data": {
      "text/plain": [
       "Index(['E100', 'E101', 'E102', 'E104', 'E110', 'E1103', 'E1105', 'E120',\n",
       "       'E1200', 'E124',\n",
       "       ...\n",
       "       'E951', 'E952', 'E954', 'E955', 'E957', 'E960', 'E965', 'E967', 'E995',\n",
       "       'E999'],\n",
       "      dtype='object', name='e_number', length=188)"
      ]
     },
     "execution_count": 59,
     "metadata": {},
     "output_type": "execute_result"
    }
   ],
   "source": [
    "res.columns"
   ]
  },
  {
   "cell_type": "code",
   "execution_count": 60,
   "metadata": {},
   "outputs": [],
   "source": [
    "products_with_e = pd.concat([products_df, res], axis=1)"
   ]
  },
  {
   "cell_type": "code",
   "execution_count": 61,
   "metadata": {},
   "outputs": [],
   "source": [
    "products_with_e[res.columns] = products_with_e[res.columns].fillna(0).astype(int)"
   ]
  },
  {
   "cell_type": "code",
   "execution_count": 63,
   "metadata": {},
   "outputs": [],
   "source": [
    "products_with_e.to_csv('products_v4.csv', index=False)"
   ]
  },
  {
   "cell_type": "code",
   "execution_count": null,
   "metadata": {},
   "outputs": [],
   "source": []
  }
 ],
 "metadata": {
  "kernelspec": {
   "display_name": "Python 3",
   "language": "python",
   "name": "python3"
  },
  "language_info": {
   "codemirror_mode": {
    "name": "ipython",
    "version": 3
   },
   "file_extension": ".py",
   "mimetype": "text/x-python",
   "name": "python",
   "nbconvert_exporter": "python",
   "pygments_lexer": "ipython3",
   "version": "3.7.4"
  }
 },
 "nbformat": 4,
 "nbformat_minor": 2
}
